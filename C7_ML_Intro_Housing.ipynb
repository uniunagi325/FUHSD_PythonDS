{
 "cells": [
  {
   "cell_type": "markdown",
   "metadata": {},
   "source": [
    "## ML Intro with housing data"
   ]
  },
  {
   "cell_type": "code",
   "execution_count": 1,
   "metadata": {},
   "outputs": [],
   "source": [
    "import pandas as pd"
   ]
  },
  {
   "cell_type": "code",
   "execution_count": 2,
   "metadata": {},
   "outputs": [],
   "source": [
    "housing_header = [\"HomeID\", \"HomeAge\", \"HomeSqft\", \"LotSize\", \"BedRooms\", \n",
    "                  \"HighSchoolAPI\", \"ProxFwy\", \"CarGarage\", \"ZipCode\", \"HomePriceK\"]\n",
    "df = pd.read_csv(\"fixed-housing-data.csv\",names=housing_header)"
   ]
  },
  {
   "cell_type": "code",
   "execution_count": 3,
   "metadata": {},
   "outputs": [
    {
     "data": {
      "text/html": [
       "<div>\n",
       "<style scoped>\n",
       "    .dataframe tbody tr th:only-of-type {\n",
       "        vertical-align: middle;\n",
       "    }\n",
       "\n",
       "    .dataframe tbody tr th {\n",
       "        vertical-align: top;\n",
       "    }\n",
       "\n",
       "    .dataframe thead th {\n",
       "        text-align: right;\n",
       "    }\n",
       "</style>\n",
       "<table border=\"1\" class=\"dataframe\">\n",
       "  <thead>\n",
       "    <tr style=\"text-align: right;\">\n",
       "      <th></th>\n",
       "      <th>HomeID</th>\n",
       "      <th>HomeAge</th>\n",
       "      <th>HomeSqft</th>\n",
       "      <th>LotSize</th>\n",
       "      <th>BedRooms</th>\n",
       "      <th>HighSchoolAPI</th>\n",
       "      <th>ProxFwy</th>\n",
       "      <th>CarGarage</th>\n",
       "      <th>ZipCode</th>\n",
       "      <th>HomePriceK</th>\n",
       "    </tr>\n",
       "  </thead>\n",
       "  <tbody>\n",
       "    <tr>\n",
       "      <th>0</th>\n",
       "      <td>1</td>\n",
       "      <td>24</td>\n",
       "      <td>1757</td>\n",
       "      <td>6056</td>\n",
       "      <td>2</td>\n",
       "      <td>899</td>\n",
       "      <td>3</td>\n",
       "      <td>3</td>\n",
       "      <td>94085</td>\n",
       "      <td>894</td>\n",
       "    </tr>\n",
       "    <tr>\n",
       "      <th>1</th>\n",
       "      <td>2</td>\n",
       "      <td>10</td>\n",
       "      <td>1563</td>\n",
       "      <td>6085</td>\n",
       "      <td>2</td>\n",
       "      <td>959</td>\n",
       "      <td>4</td>\n",
       "      <td>3</td>\n",
       "      <td>94085</td>\n",
       "      <td>861</td>\n",
       "    </tr>\n",
       "    <tr>\n",
       "      <th>2</th>\n",
       "      <td>3</td>\n",
       "      <td>14</td>\n",
       "      <td>1344</td>\n",
       "      <td>6089</td>\n",
       "      <td>2</td>\n",
       "      <td>865</td>\n",
       "      <td>4</td>\n",
       "      <td>3</td>\n",
       "      <td>94085</td>\n",
       "      <td>831</td>\n",
       "    </tr>\n",
       "    <tr>\n",
       "      <th>3</th>\n",
       "      <td>4</td>\n",
       "      <td>14</td>\n",
       "      <td>1215</td>\n",
       "      <td>6129</td>\n",
       "      <td>3</td>\n",
       "      <td>959</td>\n",
       "      <td>4</td>\n",
       "      <td>2</td>\n",
       "      <td>94085</td>\n",
       "      <td>809</td>\n",
       "    </tr>\n",
       "    <tr>\n",
       "      <th>4</th>\n",
       "      <td>5</td>\n",
       "      <td>24</td>\n",
       "      <td>1866</td>\n",
       "      <td>6141</td>\n",
       "      <td>3</td>\n",
       "      <td>877</td>\n",
       "      <td>4</td>\n",
       "      <td>1</td>\n",
       "      <td>94085</td>\n",
       "      <td>890</td>\n",
       "    </tr>\n",
       "  </tbody>\n",
       "</table>\n",
       "</div>"
      ],
      "text/plain": [
       "   HomeID  HomeAge  HomeSqft  LotSize  BedRooms  HighSchoolAPI  ProxFwy  \\\n",
       "0       1       24      1757     6056         2            899        3   \n",
       "1       2       10      1563     6085         2            959        4   \n",
       "2       3       14      1344     6089         2            865        4   \n",
       "3       4       14      1215     6129         3            959        4   \n",
       "4       5       24      1866     6141         3            877        4   \n",
       "\n",
       "   CarGarage  ZipCode  HomePriceK  \n",
       "0          3    94085         894  \n",
       "1          3    94085         861  \n",
       "2          3    94085         831  \n",
       "3          2    94085         809  \n",
       "4          1    94085         890  "
      ]
     },
     "execution_count": 3,
     "metadata": {},
     "output_type": "execute_result"
    }
   ],
   "source": [
    "df.head()"
   ]
  },
  {
   "cell_type": "code",
   "execution_count": 4,
   "metadata": {},
   "outputs": [
    {
     "data": {
      "text/plain": [
       "100"
      ]
     },
     "execution_count": 4,
     "metadata": {},
     "output_type": "execute_result"
    }
   ],
   "source": [
    "# number of rows\n",
    "len(df)"
   ]
  },
  {
   "cell_type": "code",
   "execution_count": 5,
   "metadata": {},
   "outputs": [
    {
     "data": {
      "text/plain": [
       "'\\nDataset description\\n1) HomeID\\n2) HomeAge = Age of home in years\\n3) HomeSqft = Square footage of home\\n4) LotSize = LotSize\\n5) BedRooms = Num bedrooms as per county data\\n6) HighSchoolAPI = API for nearest high school\\n7) ProxFwy = Distance in miles to Freeway\\n8) CarGarage = Number of cars in garage; 0 = no garage\\n9) ZipCode = Zipcode of home\\n\\nY) HomePriceK = Home price in $K (Target)\\n\\n9 X Variables; 1 Y variable (Target)\\n\\nData Points = 100\\n'"
      ]
     },
     "execution_count": 5,
     "metadata": {},
     "output_type": "execute_result"
    }
   ],
   "source": [
    "\"\"\"\n",
    "Dataset description\n",
    "1) HomeID\n",
    "2) HomeAge = Age of home in years\n",
    "3) HomeSqft = Square footage of home\n",
    "4) LotSize = LotSize\n",
    "5) BedRooms = Num bedrooms as per county data\n",
    "6) HighSchoolAPI = API for nearest high school\n",
    "7) ProxFwy = Distance in miles to Freeway\n",
    "8) CarGarage = Number of cars in garage; 0 = no garage\n",
    "9) ZipCode = Zipcode of home\n",
    "\n",
    "Y) HomePriceK = Home price in $K (Target)\n",
    "\n",
    "9 X Variables; 1 Y variable (Target)\n",
    "\n",
    "Data Points = 100\n",
    "\"\"\""
   ]
  },
  {
   "cell_type": "code",
   "execution_count": 6,
   "metadata": {},
   "outputs": [
    {
     "data": {
      "text/html": [
       "<div>\n",
       "<style scoped>\n",
       "    .dataframe tbody tr th:only-of-type {\n",
       "        vertical-align: middle;\n",
       "    }\n",
       "\n",
       "    .dataframe tbody tr th {\n",
       "        vertical-align: top;\n",
       "    }\n",
       "\n",
       "    .dataframe thead th {\n",
       "        text-align: right;\n",
       "    }\n",
       "</style>\n",
       "<table border=\"1\" class=\"dataframe\">\n",
       "  <thead>\n",
       "    <tr style=\"text-align: right;\">\n",
       "      <th></th>\n",
       "      <th>HomeID</th>\n",
       "      <th>HomeAge</th>\n",
       "      <th>HomeSqft</th>\n",
       "      <th>LotSize</th>\n",
       "      <th>BedRooms</th>\n",
       "      <th>HighSchoolAPI</th>\n",
       "      <th>ProxFwy</th>\n",
       "      <th>CarGarage</th>\n",
       "      <th>ZipCode</th>\n",
       "      <th>HomePriceK</th>\n",
       "    </tr>\n",
       "  </thead>\n",
       "  <tbody>\n",
       "    <tr>\n",
       "      <th>count</th>\n",
       "      <td>100.000000</td>\n",
       "      <td>100.000000</td>\n",
       "      <td>100.000000</td>\n",
       "      <td>100.000000</td>\n",
       "      <td>100.00000</td>\n",
       "      <td>100.000000</td>\n",
       "      <td>100.000000</td>\n",
       "      <td>100.000000</td>\n",
       "      <td>100.000000</td>\n",
       "      <td>100.000000</td>\n",
       "    </tr>\n",
       "    <tr>\n",
       "      <th>mean</th>\n",
       "      <td>50.500000</td>\n",
       "      <td>17.200000</td>\n",
       "      <td>1615.280000</td>\n",
       "      <td>7840.500000</td>\n",
       "      <td>2.71000</td>\n",
       "      <td>904.430000</td>\n",
       "      <td>3.100000</td>\n",
       "      <td>1.520000</td>\n",
       "      <td>94559.250000</td>\n",
       "      <td>1080.990000</td>\n",
       "    </tr>\n",
       "    <tr>\n",
       "      <th>std</th>\n",
       "      <td>29.011492</td>\n",
       "      <td>4.925711</td>\n",
       "      <td>231.759719</td>\n",
       "      <td>1046.107306</td>\n",
       "      <td>0.71485</td>\n",
       "      <td>36.337713</td>\n",
       "      <td>0.758787</td>\n",
       "      <td>1.234848</td>\n",
       "      <td>475.816351</td>\n",
       "      <td>146.533583</td>\n",
       "    </tr>\n",
       "    <tr>\n",
       "      <th>min</th>\n",
       "      <td>1.000000</td>\n",
       "      <td>10.000000</td>\n",
       "      <td>1215.000000</td>\n",
       "      <td>6056.000000</td>\n",
       "      <td>2.00000</td>\n",
       "      <td>850.000000</td>\n",
       "      <td>2.000000</td>\n",
       "      <td>0.000000</td>\n",
       "      <td>94085.000000</td>\n",
       "      <td>809.000000</td>\n",
       "    </tr>\n",
       "    <tr>\n",
       "      <th>25%</th>\n",
       "      <td>25.750000</td>\n",
       "      <td>12.750000</td>\n",
       "      <td>1411.500000</td>\n",
       "      <td>7024.250000</td>\n",
       "      <td>2.00000</td>\n",
       "      <td>875.750000</td>\n",
       "      <td>3.000000</td>\n",
       "      <td>0.000000</td>\n",
       "      <td>94086.500000</td>\n",
       "      <td>940.000000</td>\n",
       "    </tr>\n",
       "    <tr>\n",
       "      <th>50%</th>\n",
       "      <td>50.500000</td>\n",
       "      <td>17.000000</td>\n",
       "      <td>1606.500000</td>\n",
       "      <td>7822.000000</td>\n",
       "      <td>3.00000</td>\n",
       "      <td>900.500000</td>\n",
       "      <td>3.000000</td>\n",
       "      <td>2.000000</td>\n",
       "      <td>94550.500000</td>\n",
       "      <td>1100.000000</td>\n",
       "    </tr>\n",
       "    <tr>\n",
       "      <th>75%</th>\n",
       "      <td>75.250000</td>\n",
       "      <td>21.250000</td>\n",
       "      <td>1836.000000</td>\n",
       "      <td>8839.250000</td>\n",
       "      <td>3.00000</td>\n",
       "      <td>936.000000</td>\n",
       "      <td>4.000000</td>\n",
       "      <td>3.000000</td>\n",
       "      <td>95023.250000</td>\n",
       "      <td>1191.000000</td>\n",
       "    </tr>\n",
       "    <tr>\n",
       "      <th>max</th>\n",
       "      <td>100.000000</td>\n",
       "      <td>25.000000</td>\n",
       "      <td>1994.000000</td>\n",
       "      <td>9476.000000</td>\n",
       "      <td>4.00000</td>\n",
       "      <td>975.000000</td>\n",
       "      <td>4.000000</td>\n",
       "      <td>3.000000</td>\n",
       "      <td>95051.000000</td>\n",
       "      <td>1336.000000</td>\n",
       "    </tr>\n",
       "  </tbody>\n",
       "</table>\n",
       "</div>"
      ],
      "text/plain": [
       "           HomeID     HomeAge     HomeSqft      LotSize   BedRooms  \\\n",
       "count  100.000000  100.000000   100.000000   100.000000  100.00000   \n",
       "mean    50.500000   17.200000  1615.280000  7840.500000    2.71000   \n",
       "std     29.011492    4.925711   231.759719  1046.107306    0.71485   \n",
       "min      1.000000   10.000000  1215.000000  6056.000000    2.00000   \n",
       "25%     25.750000   12.750000  1411.500000  7024.250000    2.00000   \n",
       "50%     50.500000   17.000000  1606.500000  7822.000000    3.00000   \n",
       "75%     75.250000   21.250000  1836.000000  8839.250000    3.00000   \n",
       "max    100.000000   25.000000  1994.000000  9476.000000    4.00000   \n",
       "\n",
       "       HighSchoolAPI     ProxFwy   CarGarage       ZipCode   HomePriceK  \n",
       "count     100.000000  100.000000  100.000000    100.000000   100.000000  \n",
       "mean      904.430000    3.100000    1.520000  94559.250000  1080.990000  \n",
       "std        36.337713    0.758787    1.234848    475.816351   146.533583  \n",
       "min       850.000000    2.000000    0.000000  94085.000000   809.000000  \n",
       "25%       875.750000    3.000000    0.000000  94086.500000   940.000000  \n",
       "50%       900.500000    3.000000    2.000000  94550.500000  1100.000000  \n",
       "75%       936.000000    4.000000    3.000000  95023.250000  1191.000000  \n",
       "max       975.000000    4.000000    3.000000  95051.000000  1336.000000  "
      ]
     },
     "execution_count": 6,
     "metadata": {},
     "output_type": "execute_result"
    }
   ],
   "source": [
    "df.describe()"
   ]
  },
  {
   "cell_type": "code",
   "execution_count": 7,
   "metadata": {},
   "outputs": [],
   "source": [
    "X = df.drop(['HomeID','ZipCode','HomePriceK'],axis=1)\n",
    "# Deleting HomeID, ZipCode, and HomePriceK from X factors"
   ]
  },
  {
   "cell_type": "code",
   "execution_count": 8,
   "metadata": {},
   "outputs": [
    {
     "data": {
      "text/html": [
       "<div>\n",
       "<style scoped>\n",
       "    .dataframe tbody tr th:only-of-type {\n",
       "        vertical-align: middle;\n",
       "    }\n",
       "\n",
       "    .dataframe tbody tr th {\n",
       "        vertical-align: top;\n",
       "    }\n",
       "\n",
       "    .dataframe thead th {\n",
       "        text-align: right;\n",
       "    }\n",
       "</style>\n",
       "<table border=\"1\" class=\"dataframe\">\n",
       "  <thead>\n",
       "    <tr style=\"text-align: right;\">\n",
       "      <th></th>\n",
       "      <th>HomeAge</th>\n",
       "      <th>HomeSqft</th>\n",
       "      <th>LotSize</th>\n",
       "      <th>BedRooms</th>\n",
       "      <th>HighSchoolAPI</th>\n",
       "      <th>ProxFwy</th>\n",
       "      <th>CarGarage</th>\n",
       "    </tr>\n",
       "  </thead>\n",
       "  <tbody>\n",
       "    <tr>\n",
       "      <th>0</th>\n",
       "      <td>24</td>\n",
       "      <td>1757</td>\n",
       "      <td>6056</td>\n",
       "      <td>2</td>\n",
       "      <td>899</td>\n",
       "      <td>3</td>\n",
       "      <td>3</td>\n",
       "    </tr>\n",
       "    <tr>\n",
       "      <th>1</th>\n",
       "      <td>10</td>\n",
       "      <td>1563</td>\n",
       "      <td>6085</td>\n",
       "      <td>2</td>\n",
       "      <td>959</td>\n",
       "      <td>4</td>\n",
       "      <td>3</td>\n",
       "    </tr>\n",
       "    <tr>\n",
       "      <th>2</th>\n",
       "      <td>14</td>\n",
       "      <td>1344</td>\n",
       "      <td>6089</td>\n",
       "      <td>2</td>\n",
       "      <td>865</td>\n",
       "      <td>4</td>\n",
       "      <td>3</td>\n",
       "    </tr>\n",
       "    <tr>\n",
       "      <th>3</th>\n",
       "      <td>14</td>\n",
       "      <td>1215</td>\n",
       "      <td>6129</td>\n",
       "      <td>3</td>\n",
       "      <td>959</td>\n",
       "      <td>4</td>\n",
       "      <td>2</td>\n",
       "    </tr>\n",
       "    <tr>\n",
       "      <th>4</th>\n",
       "      <td>24</td>\n",
       "      <td>1866</td>\n",
       "      <td>6141</td>\n",
       "      <td>3</td>\n",
       "      <td>877</td>\n",
       "      <td>4</td>\n",
       "      <td>1</td>\n",
       "    </tr>\n",
       "  </tbody>\n",
       "</table>\n",
       "</div>"
      ],
      "text/plain": [
       "   HomeAge  HomeSqft  LotSize  BedRooms  HighSchoolAPI  ProxFwy  CarGarage\n",
       "0       24      1757     6056         2            899        3          3\n",
       "1       10      1563     6085         2            959        4          3\n",
       "2       14      1344     6089         2            865        4          3\n",
       "3       14      1215     6129         3            959        4          2\n",
       "4       24      1866     6141         3            877        4          1"
      ]
     },
     "execution_count": 8,
     "metadata": {},
     "output_type": "execute_result"
    }
   ],
   "source": [
    "X.head()"
   ]
  },
  {
   "cell_type": "code",
   "execution_count": 9,
   "metadata": {},
   "outputs": [
    {
     "name": "stdout",
     "output_type": "stream",
     "text": [
      "67.80356318282998\n",
      "[ 0.7113247   0.01549376  0.13227138  2.89844    -0.03811933 -9.68650511\n",
      " -2.96001004]\n",
      "Number of coefficients is  7\n"
     ]
    }
   ],
   "source": [
    "from sklearn.linear_model import LinearRegression\n",
    "lm = LinearRegression()\n",
    "lm.fit(X,df.HomePriceK)\n",
    "print(lm.intercept_)\n",
    "print(lm.coef_)\n",
    "print (\"Number of coefficients is \",len(lm.coef_))"
   ]
  },
  {
   "cell_type": "code",
   "execution_count": 10,
   "metadata": {},
   "outputs": [
    {
     "data": {
      "text/plain": [
       "array([846.72143155, 825.61930212, 829.18377144, 834.75116488,\n",
       "       859.62389878])"
      ]
     },
     "execution_count": 10,
     "metadata": {},
     "output_type": "execute_result"
    }
   ],
   "source": [
    "lm.predict(X)[0:5]"
   ]
  },
  {
   "cell_type": "code",
   "execution_count": 11,
   "metadata": {},
   "outputs": [
    {
     "data": {
      "text/plain": [
       "Text(0,0.5,'Predicted Prices')"
      ]
     },
     "execution_count": 11,
     "metadata": {},
     "output_type": "execute_result"
    },
    {
     "data": {
      "image/png": "[encoded data removed]",
      "text/plain": [
       "<Figure size 432x288 with 1 Axes>"
      ]
     },
     "metadata": {},
     "output_type": "display_data"
    }
   ],
   "source": [
    "import matplotlib.pyplot as plt\n",
    "%matplotlib inline\n",
    "plt.scatter(df.HomePriceK,lm.predict(X))\n",
    "plt.xlabel(\"Actual Prices\")\n",
    "plt.ylabel(\"Predicted Prices\")"
   ]
  },
  {
   "cell_type": "code",
   "execution_count": 12,
   "metadata": {},
   "outputs": [
    {
     "name": "stdout",
     "output_type": "stream",
     "text": [
      "38.42531394082745\n"
     ]
    }
   ],
   "source": [
    "# MSE is mean square error of the model\n",
    "import numpy as np\n",
    "import math\n",
    "mseFull = math.sqrt(np.mean((df.HomePriceK - lm.predict(X)) ** 2))\n",
    "print(mseFull)"
   ]
  },
  {
   "cell_type": "code",
   "execution_count": 13,
   "metadata": {},
   "outputs": [
    {
     "name": "stdout",
     "output_type": "stream",
     "text": [
      "Index(['HomeAge', 'HomeSqft', 'LotSize', 'BedRooms', 'HighSchoolAPI',\n",
      "       'ProxFwy', 'CarGarage'],\n",
      "      dtype='object')\n"
     ]
    }
   ],
   "source": [
    "print(X.columns)"
   ]
  },
  {
   "cell_type": "code",
   "execution_count": 14,
   "metadata": {},
   "outputs": [],
   "source": [
    "# How to predict for new data?"
   ]
  },
  {
   "cell_type": "code",
   "execution_count": 15,
   "metadata": {},
   "outputs": [
    {
     "data": {
      "text/plain": [
       "array([1167.08581515,  938.42765462])"
      ]
     },
     "execution_count": 15,
     "metadata": {},
     "output_type": "execute_result"
    }
   ],
   "source": [
    "row_1 = [14,1617,8394,2,851,2,0]\n",
    "row_2 = [13,1358,6819,2,851,3,2]\n",
    "tests = [row_1,row_2]\n",
    "lm.predict(tests)"
   ]
  },
  {
   "cell_type": "code",
   "execution_count": null,
   "metadata": {},
   "outputs": [],
   "source": []
  },
  {
   "cell_type": "code",
   "execution_count": null,
   "metadata": {},
   "outputs": [],
   "source": []
  },
  {
   "cell_type": "code",
   "execution_count": null,
   "metadata": {},
   "outputs": [],
   "source": []
  }
 ],
 "metadata": {
  "kernelspec": {
   "display_name": "Python 3",
   "language": "python",
   "name": "python3"
  },
  "language_info": {
   "codemirror_mode": {
    "name": "ipython",
    "version": 3
   },
   "file_extension": ".py",
   "mimetype": "text/x-python",
   "name": "python",
   "nbconvert_exporter": "python",
   "pygments_lexer": "ipython3",
   "version": "3.6.5"
  }
 },
 "nbformat": 4,
 "nbformat_minor": 2
}
