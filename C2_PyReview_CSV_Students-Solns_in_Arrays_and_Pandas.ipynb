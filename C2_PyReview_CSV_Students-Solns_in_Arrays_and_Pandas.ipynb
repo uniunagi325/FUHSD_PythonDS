{
 "cells": [
  {
   "cell_type": "markdown",
   "metadata": {},
   "source": [
    "## Class 2 Python for Data Science\n",
    "### Python Dictionary\n",
    "### List Comprehension\n",
    "### Reading CSV file and fix data errors"
   ]
  },
  {
   "cell_type": "markdown",
   "metadata": {},
   "source": [
    "One of Python's built−in datatypes is the dictionary, which defines one−to−one relationships between keys and values.\n",
    "\n",
    "\"Like lists dictionaries can easily be changed, can be shrunk and grown ad libitum at run time. They shrink and grow without the necessity of making copies. Dictionaries can be contained in lists and vice versa. But what's the difference between lists and dictionaries? Lists are ordered sets of objects, whereas dictionaries are <b>unordered sets.</b> But the main difference is that items in dictionaries are accessed via keys and not via their position.\"\n",
    "\n",
    "<br>\n",
    "A pair of braces creates an empty dictionary: {}. Placing a comma-separated list of key:value pairs within the braces adds initial key: value pairs to the dictionary; this is also the way dictionaries are written on output."
   ]
  },
  {
   "cell_type": "code",
   "execution_count": 1,
   "metadata": {},
   "outputs": [
    {
     "data": {
      "text/plain": [
       "{'fruit': 'orange, watermelon, grape', 'vegetable': 'onion, mushroom, lettuce'}"
      ]
     },
     "execution_count": 1,
     "metadata": {},
     "output_type": "execute_result"
    }
   ],
   "source": [
    "dict1 = {\"fruit\" : \"orange, watermelon, grape\", \"vegetable\":\"onion, mushroom, lettuce\"}\n",
    "dict1"
   ]
  },
  {
   "cell_type": "markdown",
   "metadata": {},
   "source": [
    "### Keys"
   ]
  },
  {
   "cell_type": "markdown",
   "metadata": {},
   "source": [
    "Get the keys from \"dict1\""
   ]
  },
  {
   "cell_type": "code",
   "execution_count": 2,
   "metadata": {},
   "outputs": [
    {
     "data": {
      "text/plain": [
       "dict_keys(['fruit', 'vegetable'])"
      ]
     },
     "execution_count": 2,
     "metadata": {},
     "output_type": "execute_result"
    }
   ],
   "source": [
    "dict1.keys()"
   ]
  },
  {
   "cell_type": "markdown",
   "metadata": {},
   "source": [
    "### Indexing With Keys?"
   ]
  },
  {
   "cell_type": "markdown",
   "metadata": {},
   "source": [
    "What happens if you try to run \"<b>dict1[0]</b>\"? Why?\n"
   ]
  },
  {
   "cell_type": "code",
   "execution_count": 3,
   "metadata": {},
   "outputs": [
    {
     "data": {
      "text/plain": [
       "'orange, watermelon, grape'"
      ]
     },
     "execution_count": 3,
     "metadata": {},
     "output_type": "execute_result"
    }
   ],
   "source": [
    "dict1[\"fruit\"]"
   ]
  },
  {
   "cell_type": "markdown",
   "metadata": {},
   "source": [
    "OR"
   ]
  },
  {
   "cell_type": "code",
   "execution_count": 4,
   "metadata": {},
   "outputs": [
    {
     "data": {
      "text/plain": [
       "'orange, watermelon, grape'"
      ]
     },
     "execution_count": 4,
     "metadata": {},
     "output_type": "execute_result"
    }
   ],
   "source": [
    "dict1.get(\"fruit\")"
   ]
  },
  {
   "cell_type": "markdown",
   "metadata": {},
   "source": [
    "### ii.Values"
   ]
  },
  {
   "cell_type": "markdown",
   "metadata": {},
   "source": [
    "Get the values from \"dict1\""
   ]
  },
  {
   "cell_type": "code",
   "execution_count": 5,
   "metadata": {},
   "outputs": [
    {
     "data": {
      "text/plain": [
       "dict_values(['orange, watermelon, grape', 'onion, mushroom, lettuce'])"
      ]
     },
     "execution_count": 5,
     "metadata": {},
     "output_type": "execute_result"
    }
   ],
   "source": [
    "dict1.values()"
   ]
  },
  {
   "cell_type": "markdown",
   "metadata": {},
   "source": [
    "### Indexing With Values?\n",
    "A little more complicated"
   ]
  },
  {
   "cell_type": "code",
   "execution_count": 6,
   "metadata": {},
   "outputs": [
    {
     "name": "stdout",
     "output_type": "stream",
     "text": [
      "fruit\n"
     ]
    }
   ],
   "source": [
    "V = 'orange, watermelon, grape'\n",
    "\n",
    "for key, value in dict1.items():\n",
    "    if value == V:\n",
    "        K = key\n",
    "    \n",
    "print(K)"
   ]
  },
  {
   "cell_type": "markdown",
   "metadata": {},
   "source": [
    "### iii. Length of Dictionary\n",
    "\n",
    "Returns the number of stored entries, i.e. the number of (key,value) pairs."
   ]
  },
  {
   "cell_type": "code",
   "execution_count": 7,
   "metadata": {},
   "outputs": [
    {
     "data": {
      "text/plain": [
       "2"
      ]
     },
     "execution_count": 7,
     "metadata": {},
     "output_type": "execute_result"
    }
   ],
   "source": [
    "len(dict1)"
   ]
  },
  {
   "cell_type": "markdown",
   "metadata": {},
   "source": [
    "### iv. Remove key and value"
   ]
  },
  {
   "cell_type": "code",
   "execution_count": 8,
   "metadata": {},
   "outputs": [
    {
     "data": {
      "text/plain": [
       "{'fruit': 'orange, watermelon, grape'}"
      ]
     },
     "execution_count": 8,
     "metadata": {},
     "output_type": "execute_result"
    }
   ],
   "source": [
    "del dict1[\"vegetable\"]\n",
    "dict1"
   ]
  },
  {
   "cell_type": "markdown",
   "metadata": {},
   "source": [
    "### v. Add new value"
   ]
  },
  {
   "cell_type": "code",
   "execution_count": 9,
   "metadata": {},
   "outputs": [
    {
     "data": {
      "text/plain": [
       "{'fruit': 'orange, watermelon, grape', 'new': 0}"
      ]
     },
     "execution_count": 9,
     "metadata": {},
     "output_type": "execute_result"
    }
   ],
   "source": [
    "dict1[\"new\"] = 0\n",
    "dict1"
   ]
  },
  {
   "cell_type": "markdown",
   "metadata": {},
   "source": [
    "### vi. Concatenating Dictionaries\n",
    "<i>*Note: Keys must be unique</i>"
   ]
  },
  {
   "cell_type": "code",
   "execution_count": 10,
   "metadata": {},
   "outputs": [
    {
     "data": {
      "text/plain": [
       "{'fruit': [5, 6, 7], 'vegetable': 'onion, mushroom, lettuce'}"
      ]
     },
     "execution_count": 10,
     "metadata": {},
     "output_type": "execute_result"
    }
   ],
   "source": [
    "#dict.update is like replacing the value of the key with value in the new dict\n",
    "dict1 = {\"fruit\" : \"orange, watermelon, grape\", \"vegetable\":\"onion, mushroom, lettuce\"}\n",
    "dict2 = {\"fruit\": [5,6,7]}\n",
    "dict1.update(dict2)\n",
    "dict1"
   ]
  },
  {
   "cell_type": "markdown",
   "metadata": {},
   "source": [
    "### <font color = \"coral\">Exercise 1: Create a new dictionary</font>\n",
    "<font color = \"coral\">Your keys should be \"Country\",\"State\",\"City\",\"ZipCode\"\n",
    "\n",
    "Fill in the values according to the keys."
   ]
  },
  {
   "cell_type": "code",
   "execution_count": 11,
   "metadata": {},
   "outputs": [
    {
     "data": {
      "text/plain": [
       "{'Country': 'USA',\n",
       " 'State': 'California',\n",
       " 'City': 'Cupertino',\n",
       " 'Zipcode': '95129'}"
      ]
     },
     "execution_count": 11,
     "metadata": {},
     "output_type": "execute_result"
    }
   ],
   "source": [
    "#Your code here\n",
    "loc_dict = {\"Country\": \"USA\", \"State\":\"California\", \"City\":\"Cupertino\", \"Zipcode\":\"95129\"}\n",
    "loc_dict"
   ]
  },
  {
   "cell_type": "markdown",
   "metadata": {},
   "source": [
    "## Multi-dimensional Array"
   ]
  },
  {
   "cell_type": "code",
   "execution_count": 12,
   "metadata": {},
   "outputs": [],
   "source": [
    "a = [[0,  1, 2, 3, 4, 5],\n",
    "     [10,11,12,13,14,15],\n",
    "     [20,21,22,23,24,25],\n",
    "     [30,31,32,33,34,35],\n",
    "     [40,41,42,43,44,45],\n",
    "     [50,51,52,53,54,55]]"
   ]
  },
  {
   "cell_type": "code",
   "execution_count": 13,
   "metadata": {},
   "outputs": [
    {
     "data": {
      "text/plain": [
       "[0, 1, 2, 3, 4, 5]"
      ]
     },
     "execution_count": 13,
     "metadata": {},
     "output_type": "execute_result"
    }
   ],
   "source": [
    "a[0]"
   ]
  },
  {
   "cell_type": "code",
   "execution_count": 14,
   "metadata": {},
   "outputs": [
    {
     "data": {
      "text/plain": [
       "[[40, 41, 42, 43, 44, 45], [50, 51, 52, 53, 54, 55]]"
      ]
     },
     "execution_count": 14,
     "metadata": {},
     "output_type": "execute_result"
    }
   ],
   "source": [
    "a[4:6]"
   ]
  },
  {
   "cell_type": "code",
   "execution_count": 15,
   "metadata": {},
   "outputs": [
    {
     "data": {
      "text/plain": [
       "55"
      ]
     },
     "execution_count": 15,
     "metadata": {},
     "output_type": "execute_result"
    }
   ],
   "source": [
    "a[5][5]"
   ]
  },
  {
   "cell_type": "markdown",
   "metadata": {},
   "source": [
    "### List Comprehensions"
   ]
  },
  {
   "cell_type": "code",
   "execution_count": 16,
   "metadata": {},
   "outputs": [
    {
     "data": {
      "text/plain": [
       "[0, 1, 4, 9, 16, 25, 36, 49, 64, 81, 100, 121, 144, 169, 196]"
      ]
     },
     "execution_count": 16,
     "metadata": {},
     "output_type": "execute_result"
    }
   ],
   "source": [
    "[x**2 for x in range(15)]"
   ]
  },
  {
   "cell_type": "markdown",
   "metadata": {},
   "source": [
    " SAME AS BELOW"
   ]
  },
  {
   "cell_type": "code",
   "execution_count": 17,
   "metadata": {},
   "outputs": [
    {
     "data": {
      "text/plain": [
       "[0, 1, 4, 9, 16, 25, 36, 49, 64, 81, 100, 121, 144, 169, 196]"
      ]
     },
     "execution_count": 17,
     "metadata": {},
     "output_type": "execute_result"
    }
   ],
   "source": [
    "squares = []\n",
    "\n",
    "for x in range(15):\n",
    "    squares.append(x**2)\n",
    "    \n",
    "squares"
   ]
  },
  {
   "cell_type": "markdown",
   "metadata": {},
   "source": [
    "#### What is happening in this loop?"
   ]
  },
  {
   "cell_type": "code",
   "execution_count": 18,
   "metadata": {},
   "outputs": [
    {
     "data": {
      "text/plain": [
       "[0, 1, 16, 81, 256, 625, 1296, 2401, 4096, 6561]"
      ]
     },
     "execution_count": 18,
     "metadata": {},
     "output_type": "execute_result"
    }
   ],
   "source": [
    "new = []\n",
    "for x in squares:\n",
    "    if x < 100:\n",
    "        new.append(x**2)\n",
    "new"
   ]
  },
  {
   "cell_type": "code",
   "execution_count": 19,
   "metadata": {},
   "outputs": [
    {
     "data": {
      "text/plain": [
       "[0, 1, 16, 81, 256, 625, 1296, 2401, 4096, 6561]"
      ]
     },
     "execution_count": 19,
     "metadata": {},
     "output_type": "execute_result"
    }
   ],
   "source": [
    "new = [i**2 for i in squares if i < 100]\n",
    "new "
   ]
  },
  {
   "cell_type": "markdown",
   "metadata": {},
   "source": [
    "### <font color = \"coral\">Exercise 2:\n",
    "<font color = \"coral\">\n",
    "Turn this for loop into a nested for list comprehension (Should only be one line)."
   ]
  },
  {
   "cell_type": "code",
   "execution_count": 20,
   "metadata": {},
   "outputs": [
    {
     "name": "stdout",
     "output_type": "stream",
     "text": [
      "[0, 5, 10, 15, 20, 25, 30, 35, 40, 45, 50, 55, 60, 65, 70, 75, 80, 85, 90, 95, 100, 105, 110, 115, 120, 125, 130, 135, 140, 145, 150, 155, 160, 165, 170, 175, 180, 185, 190, 195, 200, 205, 210, 215, 220, 225, 230, 235, 240, 245, 250, 255, 260, 265, 270, 275, 280, 285, 290, 295, 300, 305, 310, 315, 320, 325, 330, 335, 340, 345, 350, 355, 360, 365, 370, 375, 380, 385, 390, 395, 400, 405, 410, 415, 420, 425, 430, 435, 440, 445, 450, 455, 460, 465, 470, 475, 480, 485, 490, 495, 500, 505, 510, 515, 520, 525, 530, 535, 540, 545, 550, 555, 560, 565, 570, 575, 580, 585, 590, 595, 600, 605, 610, 615, 620, 625, 630, 635, 640, 645, 650, 655, 660, 665, 670, 675, 680, 685, 690, 695, 700, 705, 710, 715, 720, 725, 730, 735, 740, 745, 750, 755, 760, 765, 770, 775, 780, 785, 790, 795, 800, 805, 810, 815, 820, 825, 830, 835, 840, 845, 850, 855, 860, 865, 870, 875, 880, 885, 890, 895, 900, 905, 910, 915, 920, 925, 930, 935, 940, 945, 950, 955, 960, 965, 970, 975, 980, 985, 990, 995]\n"
     ]
    }
   ],
   "source": [
    "mystery = []\n",
    "for i in range(1000):\n",
    "    if i%5 == 0:\n",
    "        mystery.append(i)\n",
    "print(mystery)"
   ]
  },
  {
   "cell_type": "code",
   "execution_count": 21,
   "metadata": {},
   "outputs": [
    {
     "name": "stdout",
     "output_type": "stream",
     "text": [
      "[0, 5, 10, 15, 20, 25, 30, 35, 40, 45, 50, 55, 60, 65, 70, 75, 80, 85, 90, 95, 100, 105, 110, 115, 120, 125, 130, 135, 140, 145, 150, 155, 160, 165, 170, 175, 180, 185, 190, 195, 200, 205, 210, 215, 220, 225, 230, 235, 240, 245, 250, 255, 260, 265, 270, 275, 280, 285, 290, 295, 300, 305, 310, 315, 320, 325, 330, 335, 340, 345, 350, 355, 360, 365, 370, 375, 380, 385, 390, 395, 400, 405, 410, 415, 420, 425, 430, 435, 440, 445, 450, 455, 460, 465, 470, 475, 480, 485, 490, 495, 500, 505, 510, 515, 520, 525, 530, 535, 540, 545, 550, 555, 560, 565, 570, 575, 580, 585, 590, 595, 600, 605, 610, 615, 620, 625, 630, 635, 640, 645, 650, 655, 660, 665, 670, 675, 680, 685, 690, 695, 700, 705, 710, 715, 720, 725, 730, 735, 740, 745, 750, 755, 760, 765, 770, 775, 780, 785, 790, 795, 800, 805, 810, 815, 820, 825, 830, 835, 840, 845, 850, 855, 860, 865, 870, 875, 880, 885, 890, 895, 900, 905, 910, 915, 920, 925, 930, 935, 940, 945, 950, 955, 960, 965, 970, 975, 980, 985, 990, 995]\n"
     ]
    }
   ],
   "source": [
    "#Your code here\n",
    "mystery = [i for i in range(1000) if i%5 == 0]\n",
    "print(mystery)"
   ]
  },
  {
   "cell_type": "markdown",
   "metadata": {},
   "source": [
    " <h1> <b><font color = coral>&#9998; <font color = coral>EXERCISE 3:</h1></font>"
   ]
  },
  {
   "cell_type": "markdown",
   "metadata": {},
   "source": [
    "<font color = \"coral\">\n",
    "Not that you have all this knowledge on different operators, data types, and loops create a loop that removes all the unwanted information from our list.\n",
    "\n",
    "<b>1) Create a loop where you get rid of all the odd numbers.\n",
    "<br><br>\n",
    "2) Put all the numbers in order from smallest to largest.<br><br>\n",
    "3) Once you only have a list of ordered even numbers convert all these integers into strings.<br><br>\n",
    "4) Now print your number strings as a single string with comma separation.</b>\n",
    "\n"
   ]
  },
  {
   "cell_type": "code",
   "execution_count": 22,
   "metadata": {},
   "outputs": [
    {
     "name": "stdout",
     "output_type": "stream",
     "text": [
      "2, 2, 4, 4, 4, 6, 6, 6, 8, 8, 34, 54, 76, 76, 454, 876, 1212, 5432, 23432, 234234, 123212245346342\n"
     ]
    }
   ],
   "source": [
    "lst = [4,6,3,2,6,8,9,7,23,4,465,7,6,8,454,5,876,567,54,76,34,55,\n",
    "       33,7653,234234,7857,23432,4353,4,345,4667,23235,1212,221,\n",
    "       335,2323,21,45,76,5432,54645645,123212245346342,67,34563,2]\n",
    "\n",
    "#Your code here\n",
    "even = [i for i in lst if i%2 == 0]\n",
    "even.sort()\n",
    "even_str = [str(i) for i in even]\n",
    "print(\", \".join(even_str))\n"
   ]
  },
  {
   "cell_type": "markdown",
   "metadata": {},
   "source": [
    " <h1> <b><font color = coral>&#9998; <font color = coral>EXERCISE 4:</h1></font>"
   ]
  },
  {
   "cell_type": "markdown",
   "metadata": {},
   "source": [
    "<font color = \"coral\">If we list all the natural numbers below 10 that are multiples of 3 or 5, we get 3, 5, 6 and 9. The sum of these multiples is 23.\n",
    "\n",
    "Find the sum of all the multiples of 3 or 5 below 10,000."
   ]
  },
  {
   "cell_type": "code",
   "execution_count": 23,
   "metadata": {},
   "outputs": [
    {
     "name": "stdout",
     "output_type": "stream",
     "text": [
      "23\n",
      "23331668\n"
     ]
    }
   ],
   "source": [
    "#Your answer here\n",
    "def three_five_multi(n):\n",
    "     return [i for i in range(1,n) if i%3 == 0 or i%5 == 0]\n",
    "        \n",
    "print(sum(three_five_multi(10)))\n",
    "print(sum(three_five_multi(10000)))\n"
   ]
  },
  {
   "cell_type": "markdown",
   "metadata": {},
   "source": [
    " <h1> <b><font color = coral>&#9998; <font color = coral>EXERCISE 5:</h1></font>"
   ]
  },
  {
   "cell_type": "markdown",
   "metadata": {},
   "source": [
    "<font color = \"coral\">\n",
    "Calculate all square numbers (1,4,9,16,...) below 1,000. What's their sum?"
   ]
  },
  {
   "cell_type": "code",
   "execution_count": 24,
   "metadata": {},
   "outputs": [
    {
     "data": {
      "text/plain": [
       "10416"
      ]
     },
     "execution_count": 24,
     "metadata": {},
     "output_type": "execute_result"
    }
   ],
   "source": [
    "#Your answer here\n",
    "import math\n",
    "squares = [i for i in range(1000) if math.sqrt(i) % 1 == 0]\n",
    "sum(squares)"
   ]
  },
  {
   "cell_type": "markdown",
   "metadata": {},
   "source": [
    " <h1> <b><font color = coral>&#9998; <font color = coral>EXERCISE 6:</h1></font>"
   ]
  },
  {
   "cell_type": "markdown",
   "metadata": {},
   "source": [
    "<font color = \"coral\">\n",
    "Write a function to calculate the mean (average) of \"lst\". Do not use the built-in \"mean\" functions that Python offers."
   ]
  },
  {
   "cell_type": "code",
   "execution_count": 25,
   "metadata": {},
   "outputs": [
    {
     "data": {
      "text/plain": [
       "121.77272727272727"
      ]
     },
     "execution_count": 25,
     "metadata": {},
     "output_type": "execute_result"
    }
   ],
   "source": [
    "lst = [4,6,3,2,6,8,9,7,23,4,465,7,6,8,454,5,876,567,54,76,34,55]\n",
    "           \n",
    "#Your answer here\n",
    "def average(l):\n",
    "    return sum(l)/len(l)\n",
    "\n",
    "average(lst)"
   ]
  },
  {
   "cell_type": "markdown",
   "metadata": {},
   "source": [
    " <h1> <b><font color = coral>&#9998; <font color = coral>EXERCISE 7:</h1></font>"
   ]
  },
  {
   "cell_type": "markdown",
   "metadata": {},
   "source": [
    "<font color = \"coral\">\n",
    "Write a function to calculate the median of \"lst\". Do not use the built-in \"median\" functions that Python offers."
   ]
  },
  {
   "cell_type": "code",
   "execution_count": 26,
   "metadata": {},
   "outputs": [
    {
     "data": {
      "text/plain": [
       "67"
      ]
     },
     "execution_count": 26,
     "metadata": {},
     "output_type": "execute_result"
    }
   ],
   "source": [
    "lst = [4,6,3,2,6,8,9,7,23,4,465,7,6,8,454,5,876,567,54,76,34,55,\n",
    "       33,7653,234234,7857,23432,4353,4,345,4667,23235,1212,221,\n",
    "       335,2323,21,45,76,5432,54645645,123212245346342,67,34563,2]\n",
    "\n",
    "#Your answer here\n",
    "def median(l):\n",
    "    l.sort()\n",
    "    if len(l)%2 == 0:\n",
    "        return (l[len(l)//2] + l[len(l)//2 - 1]) / 2  # i.e. len 4, 0, 1, 2, 3, middle indices are 1 & 2, hence 4//2 - 1 and 4//2\n",
    "    else:\n",
    "        return l[len(l)//2]   # i.e. len 5, indices 0,1,2,3,4, midpoint is index 2, hence floor division of 5//2\n",
    "    \n",
    "median(lst)    "
   ]
  },
  {
   "cell_type": "markdown",
   "metadata": {},
   "source": [
    " <h1> <b><font color = coral>&#9998; <font color = coral>EXERCISE 8:</h1></font>"
   ]
  },
  {
   "cell_type": "markdown",
   "metadata": {},
   "source": [
    "<font color = \"coral\">Write a function to calculate the mode of \"lst\". Do not use the built-in \"mode\" functions that Python offers."
   ]
  },
  {
   "cell_type": "code",
   "execution_count": 1,
   "metadata": {},
   "outputs": [
    {
     "data": {
      "text/plain": [
       "[4, 6]"
      ]
     },
     "execution_count": 1,
     "metadata": {},
     "output_type": "execute_result"
    }
   ],
   "source": [
    "lst = [4,6,3,2,6,8,9,7,23,4,465,7,6,8,454,5,876,567,54,76,34,55,\n",
    "       33,7653,234234,7857,23432,4353,4,345,4667,23235,1212,221,\n",
    "       335,2323,21,45,76,5432,54645645,123212245346342,67,34563,2]\n",
    "\n",
    "#Your answer here\n",
    "def mode(l):\n",
    "    counts = {}\n",
    "    for i in lst:\n",
    "        if i not in counts:\n",
    "            counts[i] = 1\n",
    "        else:\n",
    "            counts[i] += 1\n",
    "    \n",
    "    max_ct = 0\n",
    "    max_keys = []\n",
    "    for key, value in counts.items():\n",
    "        if value > max_ct:\n",
    "            max_ct = value\n",
    "            max_keys = [key]\n",
    "        elif value == max_ct:\n",
    "            max_keys.append(key)\n",
    "    return max_keys\n",
    "\n",
    "mode(lst)\n",
    "        "
   ]
  },
  {
   "cell_type": "markdown",
   "metadata": {},
   "source": [
    "# Reading CSV file -- bayarea_home_prices data"
   ]
  },
  {
   "cell_type": "code",
   "execution_count": 28,
   "metadata": {},
   "outputs": [
    {
     "data": {
      "text/plain": [
       "'\\nDataset description\\n1) HomeID = Home ID number\\n2) HomeAge = Age of home in years\\n3) HomeSqft = Square footage of home\\n4) LotSize = LotSize\\n5) BedRooms = Num bedrooms as per county data\\n6) HighSchoolAPI = API for nearest high school\\n7) ProxFwy = Distance in miles to Freeway\\n8) CarGarage = Number of cars in garage; 0 = no garage\\n9) ZipCode = Postal zip code for the home\\n10)HomePriceK = Home price in $K (Target)\\n-------------------------------------------\\n9 X Variables; 1 Y variable (Target)\\nData Points = 100\\n\\nData errors:\\n1) Few ZipCode have starting digit to be 8, it should be 9\\n2) Few HighSchoolApi scores have two digits, the ending digit 0 is missing\\n3) Few CarGarage numbers were entered as letter \"l\", it should be integer 1 \\n'"
      ]
     },
     "execution_count": 28,
     "metadata": {},
     "output_type": "execute_result"
    }
   ],
   "source": [
    "\"\"\"\n",
    "Dataset description\n",
    "1) HomeID = Home ID number\n",
    "2) HomeAge = Age of home in years\n",
    "3) HomeSqft = Square footage of home\n",
    "4) LotSize = LotSize\n",
    "5) BedRooms = Num bedrooms as per county data\n",
    "6) HighSchoolAPI = API for nearest high school\n",
    "7) ProxFwy = Distance in miles to Freeway\n",
    "8) CarGarage = Number of cars in garage; 0 = no garage\n",
    "9) ZipCode = Postal zip code for the home\n",
    "10)HomePriceK = Home price in $K (Target)\n",
    "-------------------------------------------\n",
    "9 X Variables; 1 Y variable (Target)\n",
    "Data Points = 100\n",
    "\n",
    "Data errors:\n",
    "1) Few ZipCode have starting digit to be 8, it should be 9\n",
    "2) Few HighSchoolApi scores have two digits, the ending digit 0 is missing\n",
    "3) Few CarGarage numbers were entered as letter \"l\", it should be integer 1 \n",
    "\"\"\""
   ]
  },
  {
   "cell_type": "code",
   "execution_count": 29,
   "metadata": {},
   "outputs": [],
   "source": [
    "## Reading csv files\n",
    "def read_file(filename):\n",
    "    file_open = open(filename,\"r\")\n",
    "    data_array = []\n",
    "    for line in iter(file_open):\n",
    "        if \"HomeID\" in line:\n",
    "            continue\n",
    "        line_no_newline = line.rstrip() # delete white space characters\n",
    "        line_split = line_no_newline.split(\",\")\n",
    "        data_array.append(line_split)\n",
    "    return data_array"
   ]
  },
  {
   "cell_type": "code",
   "execution_count": 30,
   "metadata": {},
   "outputs": [
    {
     "name": "stdout",
     "output_type": "stream",
     "text": [
      "[['1', '24', '1757', '6056', '2', '899', '3', '3', '94085', '894'], ['2', '10', '1563', '6085', '2', '959', '4', '3', '94085', '861'], ['3', '14', '1344', '6089', '2', '865', '4', '3', '94085', '831'], ['4', '14', '1215', '6129', '3', '959', '4', '2', '94085', '809'], ['5', '24', '1866', '6141', '3', '877', '4', '1', '94085', '890'], ['6', '18', '1589', '6148', '2', '920', '3', '0', '84085', '867']]\n"
     ]
    }
   ],
   "source": [
    "housing_data = read_file(\"bayarea_home_prices.csv\")\n",
    "print(housing_data[0:6])"
   ]
  },
  {
   "cell_type": "code",
   "execution_count": 31,
   "metadata": {},
   "outputs": [
    {
     "name": "stdout",
     "output_type": "stream",
     "text": [
      "100\n"
     ]
    }
   ],
   "source": [
    "len_housing_data = len(housing_data)\n",
    "print(len_housing_data)"
   ]
  },
  {
   "cell_type": "code",
   "execution_count": 32,
   "metadata": {},
   "outputs": [],
   "source": [
    "list_HomeAge = []\n",
    "# for all rows, extract only column 1\n",
    "for k in range(0,len_housing_data):\n",
    "    list_HomeAge.append(housing_data[k][1])    "
   ]
  },
  {
   "cell_type": "code",
   "execution_count": 33,
   "metadata": {},
   "outputs": [
    {
     "name": "stdout",
     "output_type": "stream",
     "text": [
      "['24', '10', '14', '14', '24', '18', '13', '19', '17', '24', '12', '22', '15', '25', '10', '20', '23', '16', '10', '13', '17', '10', '15', '10', '21', '12', '13', '10', '17', '24', '10', '18', '11', '19', '12', '14', '13', '22', '22', '15', '23', '21', '17', '11', '15', '11', '21', '22', '12', '19', '19', '25', '23', '12', '10', '11', '11', '19', '22', '19', '13', '19', '25', '12', '14', '25', '24', '12', '21', '16', '19', '24', '25', '17', '14', '12', '17', '25', '17', '11', '18', '19', '24', '25', '22', '19', '18', '22', '21', '14', '16', '18', '25', '21', '13', '11', '10', '21', '19', '11']\n"
     ]
    }
   ],
   "source": [
    "print(list_HomeAge) \n",
    "# they are still strings, cannot do numerical calculations with strings "
   ]
  },
  {
   "cell_type": "code",
   "execution_count": 34,
   "metadata": {},
   "outputs": [],
   "source": [
    "# How to convert zipcodes from text to numbers\n",
    "for k in range(0,len_housing_data):\n",
    "    housing_data[k][8] = int(housing_data[k][8])  # convert to integer data type and over-write"
   ]
  },
  {
   "cell_type": "code",
   "execution_count": 35,
   "metadata": {},
   "outputs": [
    {
     "name": "stdout",
     "output_type": "stream",
     "text": [
      "[['1', '24', '1757', '6056', '2', '899', '3', '3', 94085, '894'], ['2', '10', '1563', '6085', '2', '959', '4', '3', 94085, '861'], ['3', '14', '1344', '6089', '2', '865', '4', '3', 94085, '831'], ['4', '14', '1215', '6129', '3', '959', '4', '2', 94085, '809'], ['5', '24', '1866', '6141', '3', '877', '4', '1', 94085, '890']]\n"
     ]
    }
   ],
   "source": [
    "print(housing_data[0:5]) # Zipcode is without quotes and not strings; they are now integers"
   ]
  },
  {
   "cell_type": "code",
   "execution_count": 36,
   "metadata": {},
   "outputs": [],
   "source": [
    "## Reading csv files, how to fix errors in data, replace 84085 with 94085\n",
    "def read_file_housing(filename):\n",
    "    file_open = open(filename,\"r\")\n",
    "    data_array = []\n",
    "    for line in iter(file_open):\n",
    "        if \"HomeID\" in line:\n",
    "            continue\n",
    "        line_no_newline = line.rstrip()\n",
    "        line2 = line_no_newline.replace(\"84085\",\"94085\")\n",
    "        line_split = line2.split(\",\")\n",
    "        data_array.append(line_split)\n",
    "    return data_array\n"
   ]
  },
  {
   "cell_type": "code",
   "execution_count": 37,
   "metadata": {},
   "outputs": [
    {
     "name": "stdout",
     "output_type": "stream",
     "text": [
      "[['1', '24', '1757', '6056', '2', '899', '3', '3', '94085', '894'], ['2', '10', '1563', '6085', '2', '959', '4', '3', '94085', '861'], ['3', '14', '1344', '6089', '2', '865', '4', '3', '94085', '831'], ['4', '14', '1215', '6129', '3', '959', '4', '2', '94085', '809'], ['5', '24', '1866', '6141', '3', '877', '4', '1', '94085', '890'], ['6', '18', '1589', '6148', '2', '920', '3', '0', '94085', '867']]\n"
     ]
    }
   ],
   "source": [
    "housing_data2 = read_file_housing(\"bayarea_home_prices.csv\")\n",
    "print(housing_data2[0:6])"
   ]
  },
  {
   "cell_type": "code",
   "execution_count": 38,
   "metadata": {},
   "outputs": [
    {
     "name": "stdout",
     "output_type": "stream",
     "text": [
      "100\n"
     ]
    }
   ],
   "source": [
    "len_housing_data2 = len(housing_data2)\n",
    "print(len_housing_data2)"
   ]
  },
  {
   "cell_type": "code",
   "execution_count": 39,
   "metadata": {},
   "outputs": [],
   "source": [
    "list_ZipCode2 = []\n",
    "# for all rows, extract all zipcodes\n",
    "for k in range(0,len_housing_data2):\n",
    "    list_ZipCode2.append(int(housing_data2[k][8]))  "
   ]
  },
  {
   "cell_type": "code",
   "execution_count": 40,
   "metadata": {},
   "outputs": [
    {
     "name": "stdout",
     "output_type": "stream",
     "text": [
      "[94085, 94085, 94085, 94085, 94085, 94085, 94085, 94085, 94085, 94085, 94085, 94085, 94085, 94085, 94085, 95051, 94085, 94085, 95051, 94085, 94085, 94085, 94085, 95051, 94085, 94085, 94085, 95051, 94085, 95051, 95051, 95051, 95051, 95051, 95051, 95051, 85051, 95051, 95051, 95051, 94087, 94087, 95051, 95051, 95051, 94087, 95051, 94087, 94087, 95051, 95051, 95051, 85051, 94087, 95051, 94087, 94087, 94087, 95051, 94087, 94087, 94087, 94087, 94087, 94087, 95014, 94087, 94087, 94087, 94087, 95014, 94087, 95014, 95014, 84087, 84087, 95014, 94087, 94087, 94087, 95014, 95014, 95014, 95014, 85014, 95014, 95014, 95014, 85014, 95014, 95014, 95014, 95014, 95014, 95014, 95014, 95014, 95014, 95014, 95014]\n"
     ]
    }
   ],
   "source": [
    "print(list_ZipCode2) # Converted to numbers"
   ]
  },
  {
   "cell_type": "code",
   "execution_count": 41,
   "metadata": {},
   "outputs": [
    {
     "data": {
      "text/plain": [
       "list"
      ]
     },
     "execution_count": 41,
     "metadata": {},
     "output_type": "execute_result"
    }
   ],
   "source": [
    "type(housing_data2)"
   ]
  },
  {
   "cell_type": "markdown",
   "metadata": {},
   "source": [
    "### Pandas version - read_csv"
   ]
  },
  {
   "cell_type": "code",
   "execution_count": 42,
   "metadata": {},
   "outputs": [
    {
     "name": "stdout",
     "output_type": "stream",
     "text": [
      "100\n"
     ]
    },
    {
     "data": {
      "text/html": [
       "<div>\n",
       "<style scoped>\n",
       "    .dataframe tbody tr th:only-of-type {\n",
       "        vertical-align: middle;\n",
       "    }\n",
       "\n",
       "    .dataframe tbody tr th {\n",
       "        vertical-align: top;\n",
       "    }\n",
       "\n",
       "    .dataframe thead th {\n",
       "        text-align: right;\n",
       "    }\n",
       "</style>\n",
       "<table border=\"1\" class=\"dataframe\">\n",
       "  <thead>\n",
       "    <tr style=\"text-align: right;\">\n",
       "      <th></th>\n",
       "      <th>HomeID</th>\n",
       "      <th>HomeAge</th>\n",
       "      <th>HomeSqft</th>\n",
       "      <th>LotSize</th>\n",
       "      <th>BedRooms</th>\n",
       "      <th>HighSchoolAPI</th>\n",
       "      <th>ProxFwy</th>\n",
       "      <th>CarGarage</th>\n",
       "      <th>ZipCode</th>\n",
       "      <th>HomePriceK</th>\n",
       "    </tr>\n",
       "  </thead>\n",
       "  <tbody>\n",
       "    <tr>\n",
       "      <th>0</th>\n",
       "      <td>1</td>\n",
       "      <td>24</td>\n",
       "      <td>1757</td>\n",
       "      <td>6056</td>\n",
       "      <td>2</td>\n",
       "      <td>899</td>\n",
       "      <td>3</td>\n",
       "      <td>3</td>\n",
       "      <td>94085</td>\n",
       "      <td>894</td>\n",
       "    </tr>\n",
       "    <tr>\n",
       "      <th>1</th>\n",
       "      <td>2</td>\n",
       "      <td>10</td>\n",
       "      <td>1563</td>\n",
       "      <td>6085</td>\n",
       "      <td>2</td>\n",
       "      <td>959</td>\n",
       "      <td>4</td>\n",
       "      <td>3</td>\n",
       "      <td>94085</td>\n",
       "      <td>861</td>\n",
       "    </tr>\n",
       "    <tr>\n",
       "      <th>2</th>\n",
       "      <td>3</td>\n",
       "      <td>14</td>\n",
       "      <td>1344</td>\n",
       "      <td>6089</td>\n",
       "      <td>2</td>\n",
       "      <td>865</td>\n",
       "      <td>4</td>\n",
       "      <td>3</td>\n",
       "      <td>94085</td>\n",
       "      <td>831</td>\n",
       "    </tr>\n",
       "    <tr>\n",
       "      <th>3</th>\n",
       "      <td>4</td>\n",
       "      <td>14</td>\n",
       "      <td>1215</td>\n",
       "      <td>6129</td>\n",
       "      <td>3</td>\n",
       "      <td>959</td>\n",
       "      <td>4</td>\n",
       "      <td>2</td>\n",
       "      <td>94085</td>\n",
       "      <td>809</td>\n",
       "    </tr>\n",
       "    <tr>\n",
       "      <th>4</th>\n",
       "      <td>5</td>\n",
       "      <td>24</td>\n",
       "      <td>1866</td>\n",
       "      <td>6141</td>\n",
       "      <td>3</td>\n",
       "      <td>877</td>\n",
       "      <td>4</td>\n",
       "      <td>1</td>\n",
       "      <td>94085</td>\n",
       "      <td>890</td>\n",
       "    </tr>\n",
       "  </tbody>\n",
       "</table>\n",
       "</div>"
      ],
      "text/plain": [
       "   HomeID  HomeAge  HomeSqft  LotSize  BedRooms  HighSchoolAPI  ProxFwy  \\\n",
       "0       1       24      1757     6056         2            899        3   \n",
       "1       2       10      1563     6085         2            959        4   \n",
       "2       3       14      1344     6089         2            865        4   \n",
       "3       4       14      1215     6129         3            959        4   \n",
       "4       5       24      1866     6141         3            877        4   \n",
       "\n",
       "  CarGarage  ZipCode  HomePriceK  \n",
       "0         3    94085         894  \n",
       "1         3    94085         861  \n",
       "2         3    94085         831  \n",
       "3         2    94085         809  \n",
       "4         1    94085         890  "
      ]
     },
     "execution_count": 42,
     "metadata": {},
     "output_type": "execute_result"
    }
   ],
   "source": [
    "# Pandas loads numbers in csv as int, versus reading it in line by line into a multi-D array would give you strings\n",
    "import pandas as pd\n",
    "df = pd.read_csv(\"bayarea_home_prices.csv\")\n",
    "print(len(df))\n",
    "df.head()\n"
   ]
  },
  {
   "cell_type": "code",
   "execution_count": 43,
   "metadata": {
    "scrolled": true
   },
   "outputs": [
    {
     "data": {
      "text/html": [
       "<div>\n",
       "<style scoped>\n",
       "    .dataframe tbody tr th:only-of-type {\n",
       "        vertical-align: middle;\n",
       "    }\n",
       "\n",
       "    .dataframe tbody tr th {\n",
       "        vertical-align: top;\n",
       "    }\n",
       "\n",
       "    .dataframe thead th {\n",
       "        text-align: right;\n",
       "    }\n",
       "</style>\n",
       "<table border=\"1\" class=\"dataframe\">\n",
       "  <thead>\n",
       "    <tr style=\"text-align: right;\">\n",
       "      <th></th>\n",
       "      <th>HomeID</th>\n",
       "      <th>HomeAge</th>\n",
       "      <th>HomeSqft</th>\n",
       "      <th>LotSize</th>\n",
       "      <th>BedRooms</th>\n",
       "      <th>HighSchoolAPI</th>\n",
       "      <th>ProxFwy</th>\n",
       "      <th>CarGarage</th>\n",
       "      <th>ZipCode</th>\n",
       "      <th>HomePriceK</th>\n",
       "    </tr>\n",
       "  </thead>\n",
       "  <tbody>\n",
       "    <tr>\n",
       "      <th>5</th>\n",
       "      <td>6</td>\n",
       "      <td>18</td>\n",
       "      <td>1589</td>\n",
       "      <td>6148</td>\n",
       "      <td>2</td>\n",
       "      <td>920</td>\n",
       "      <td>3</td>\n",
       "      <td>0</td>\n",
       "      <td>84085</td>\n",
       "      <td>867</td>\n",
       "    </tr>\n",
       "    <tr>\n",
       "      <th>21</th>\n",
       "      <td>22</td>\n",
       "      <td>10</td>\n",
       "      <td>1752</td>\n",
       "      <td>6892</td>\n",
       "      <td>3</td>\n",
       "      <td>904</td>\n",
       "      <td>3</td>\n",
       "      <td>0</td>\n",
       "      <td>84085</td>\n",
       "      <td>912</td>\n",
       "    </tr>\n",
       "    <tr>\n",
       "      <th>36</th>\n",
       "      <td>37</td>\n",
       "      <td>13</td>\n",
       "      <td>1874</td>\n",
       "      <td>7333</td>\n",
       "      <td>3</td>\n",
       "      <td>960</td>\n",
       "      <td>3</td>\n",
       "      <td>2</td>\n",
       "      <td>85051</td>\n",
       "      <td>1044</td>\n",
       "    </tr>\n",
       "    <tr>\n",
       "      <th>52</th>\n",
       "      <td>53</td>\n",
       "      <td>23</td>\n",
       "      <td>1289</td>\n",
       "      <td>7873</td>\n",
       "      <td>2</td>\n",
       "      <td>857</td>\n",
       "      <td>3</td>\n",
       "      <td>0</td>\n",
       "      <td>85051</td>\n",
       "      <td>1074</td>\n",
       "    </tr>\n",
       "    <tr>\n",
       "      <th>74</th>\n",
       "      <td>75</td>\n",
       "      <td>14</td>\n",
       "      <td>1401</td>\n",
       "      <td>8825</td>\n",
       "      <td>3</td>\n",
       "      <td>940</td>\n",
       "      <td>2</td>\n",
       "      <td>2</td>\n",
       "      <td>84087</td>\n",
       "      <td>1184</td>\n",
       "    </tr>\n",
       "    <tr>\n",
       "      <th>75</th>\n",
       "      <td>76</td>\n",
       "      <td>12</td>\n",
       "      <td>1947</td>\n",
       "      <td>8882</td>\n",
       "      <td>3</td>\n",
       "      <td>954</td>\n",
       "      <td>3</td>\n",
       "      <td>2</td>\n",
       "      <td>84087</td>\n",
       "      <td>1173</td>\n",
       "    </tr>\n",
       "    <tr>\n",
       "      <th>84</th>\n",
       "      <td>85</td>\n",
       "      <td>22</td>\n",
       "      <td>1757</td>\n",
       "      <td>9163</td>\n",
       "      <td>3</td>\n",
       "      <td>861</td>\n",
       "      <td>2</td>\n",
       "      <td>3</td>\n",
       "      <td>85014</td>\n",
       "      <td>1272</td>\n",
       "    </tr>\n",
       "    <tr>\n",
       "      <th>88</th>\n",
       "      <td>89</td>\n",
       "      <td>21</td>\n",
       "      <td>1994</td>\n",
       "      <td>9215</td>\n",
       "      <td>4</td>\n",
       "      <td>881</td>\n",
       "      <td>4</td>\n",
       "      <td>0</td>\n",
       "      <td>85014</td>\n",
       "      <td>1256</td>\n",
       "    </tr>\n",
       "  </tbody>\n",
       "</table>\n",
       "</div>"
      ],
      "text/plain": [
       "    HomeID  HomeAge  HomeSqft  LotSize  BedRooms  HighSchoolAPI  ProxFwy  \\\n",
       "5        6       18      1589     6148         2            920        3   \n",
       "21      22       10      1752     6892         3            904        3   \n",
       "36      37       13      1874     7333         3            960        3   \n",
       "52      53       23      1289     7873         2            857        3   \n",
       "74      75       14      1401     8825         3            940        2   \n",
       "75      76       12      1947     8882         3            954        3   \n",
       "84      85       22      1757     9163         3            861        2   \n",
       "88      89       21      1994     9215         4            881        4   \n",
       "\n",
       "   CarGarage  ZipCode  HomePriceK  \n",
       "5          0    84085         867  \n",
       "21         0    84085         912  \n",
       "36         2    85051        1044  \n",
       "52         0    85051        1074  \n",
       "74         2    84087        1184  \n",
       "75         2    84087        1173  \n",
       "84         3    85014        1272  \n",
       "88         0    85014        1256  "
      ]
     },
     "execution_count": 43,
     "metadata": {},
     "output_type": "execute_result"
    }
   ],
   "source": [
    "df[df['ZipCode'] < 90000]"
   ]
  },
  {
   "cell_type": "markdown",
   "metadata": {},
   "source": [
    "<h1> <b><font color = coral>&#9998; <font color = coral>EXERCISE 9:</h1></font>"
   ]
  },
  {
   "cell_type": "code",
   "execution_count": 44,
   "metadata": {},
   "outputs": [
    {
     "data": {
      "text/plain": [
       "'\\nThe above example shows correcting 84085 -> 94085\\nPerform other zip code corrections: \\n84087 -> 94087,\\n85014 -> 95014,\\n85051 -> 95051\\nCreate a table for zip code distribution after corrections:\\nAfter:Zipcode,House_Count\\n94085,25\\n94087,25\\n95051,25\\n95014,25\\n'"
      ]
     },
     "execution_count": 44,
     "metadata": {},
     "output_type": "execute_result"
    }
   ],
   "source": [
    "\"\"\"\n",
    "The above example shows correcting 84085 -> 94085\n",
    "Perform other zip code corrections: \n",
    "84087 -> 94087,\n",
    "85014 -> 95014,\n",
    "85051 -> 95051\n",
    "Create a table for zip code distribution after corrections:\n",
    "After:Zipcode,House_Count\n",
    "94085,25\n",
    "94087,25\n",
    "95051,25\n",
    "95014,25\n",
    "\"\"\"\n",
    "#Your answer here\n",
    "#Answer is below"
   ]
  },
  {
   "cell_type": "markdown",
   "metadata": {},
   "source": [
    "### Arrays version for #9"
   ]
  },
  {
   "cell_type": "code",
   "execution_count": 45,
   "metadata": {},
   "outputs": [
    {
     "name": "stdout",
     "output_type": "stream",
     "text": [
      "[['1', '24', '1757', '6056', '2', '899', '3', '3', '94085', '894'], ['2', '10', '1563', '6085', '2', '959', '4', '3', '94085', '861'], ['3', '14', '1344', '6089', '2', '865', '4', '3', '94085', '831'], ['4', '14', '1215', '6129', '3', '959', '4', '2', '94085', '809'], ['5', '24', '1866', '6141', '3', '877', '4', '1', '94085', '890']]\n"
     ]
    }
   ],
   "source": [
    "def replace_all(text, dic):\n",
    "    for i, j in dic.items():\n",
    "        text = text.replace(i, j)\n",
    "    return text\n",
    "\n",
    "def read_file_housing(filename, dic):\n",
    "    file_open = open(filename,\"r\")\n",
    "    data_array = []\n",
    "    for line in iter(file_open):\n",
    "        if \"HomeID\" in line:\n",
    "            continue\n",
    "        line_no_newline = line.rstrip()\n",
    "        #line2 = line_no_newline.replace(\"84085\",\"94085\")\n",
    "        line2 = replace_all(line_no_newline, dic)\n",
    "        line_split = line2.split(\",\")\n",
    "        if len(line_split[5]) == 2:\n",
    "            line_split[5] += '0'  #since it is a string of number, to multiply by 10 is same as adding a '0' at the end\n",
    "        data_array.append(line_split)\n",
    "    return data_array\n",
    "\n",
    "dic = {\"84085\":\"94085\", \"84087\":\"94087\",\"85014\":\"95014\",\"85051\":\"95051\",\"l\":\"1\"}  #fix ZipCode and CarGarage\n",
    "housing_data2 = read_file_housing(\"bayarea_home_prices.csv\", dic)\n",
    "print(housing_data2[0:5])"
   ]
  },
  {
   "cell_type": "code",
   "execution_count": 46,
   "metadata": {},
   "outputs": [
    {
     "name": "stdout",
     "output_type": "stream",
     "text": [
      "Zipcode,House_Count\n",
      "94085,25\n",
      "94087,25\n",
      "95014,25\n",
      "95051,25\n"
     ]
    }
   ],
   "source": [
    "zipcode_ct = {}\n",
    "# for all rows, extract all zipcodes\n",
    "for k in range(0,len(housing_data2)):\n",
    "    if housing_data2[k][8] not in zipcode_ct:\n",
    "        zipcode_ct[housing_data2[k][8]] = 1\n",
    "    else:\n",
    "        zipcode_ct[housing_data2[k][8]] += 1\n",
    "    \n",
    "print(\"Zipcode,House_Count\")    \n",
    "for i,v in sorted(zipcode_ct.items()):\n",
    "    print(i+','+str(v))\n",
    "    "
   ]
  },
  {
   "cell_type": "markdown",
   "metadata": {},
   "source": [
    "### Pandas version for #9"
   ]
  },
  {
   "cell_type": "code",
   "execution_count": 47,
   "metadata": {},
   "outputs": [
    {
     "data": {
      "text/html": [
       "<div>\n",
       "<style scoped>\n",
       "    .dataframe tbody tr th:only-of-type {\n",
       "        vertical-align: middle;\n",
       "    }\n",
       "\n",
       "    .dataframe tbody tr th {\n",
       "        vertical-align: top;\n",
       "    }\n",
       "\n",
       "    .dataframe thead th {\n",
       "        text-align: right;\n",
       "    }\n",
       "</style>\n",
       "<table border=\"1\" class=\"dataframe\">\n",
       "  <thead>\n",
       "    <tr style=\"text-align: right;\">\n",
       "      <th></th>\n",
       "      <th>HomeID</th>\n",
       "      <th>HomeAge</th>\n",
       "      <th>HomeSqft</th>\n",
       "      <th>LotSize</th>\n",
       "      <th>BedRooms</th>\n",
       "      <th>HighSchoolAPI</th>\n",
       "      <th>ProxFwy</th>\n",
       "      <th>CarGarage</th>\n",
       "      <th>ZipCode</th>\n",
       "      <th>HomePriceK</th>\n",
       "    </tr>\n",
       "  </thead>\n",
       "  <tbody>\n",
       "    <tr>\n",
       "      <th>36</th>\n",
       "      <td>37</td>\n",
       "      <td>13</td>\n",
       "      <td>1874</td>\n",
       "      <td>7333</td>\n",
       "      <td>3</td>\n",
       "      <td>960</td>\n",
       "      <td>3</td>\n",
       "      <td>2</td>\n",
       "      <td>85051</td>\n",
       "      <td>1044</td>\n",
       "    </tr>\n",
       "    <tr>\n",
       "      <th>52</th>\n",
       "      <td>53</td>\n",
       "      <td>23</td>\n",
       "      <td>1289</td>\n",
       "      <td>7873</td>\n",
       "      <td>2</td>\n",
       "      <td>857</td>\n",
       "      <td>3</td>\n",
       "      <td>0</td>\n",
       "      <td>85051</td>\n",
       "      <td>1074</td>\n",
       "    </tr>\n",
       "    <tr>\n",
       "      <th>74</th>\n",
       "      <td>75</td>\n",
       "      <td>14</td>\n",
       "      <td>1401</td>\n",
       "      <td>8825</td>\n",
       "      <td>3</td>\n",
       "      <td>940</td>\n",
       "      <td>2</td>\n",
       "      <td>2</td>\n",
       "      <td>84087</td>\n",
       "      <td>1184</td>\n",
       "    </tr>\n",
       "    <tr>\n",
       "      <th>75</th>\n",
       "      <td>76</td>\n",
       "      <td>12</td>\n",
       "      <td>1947</td>\n",
       "      <td>8882</td>\n",
       "      <td>3</td>\n",
       "      <td>954</td>\n",
       "      <td>3</td>\n",
       "      <td>2</td>\n",
       "      <td>84087</td>\n",
       "      <td>1173</td>\n",
       "    </tr>\n",
       "    <tr>\n",
       "      <th>84</th>\n",
       "      <td>85</td>\n",
       "      <td>22</td>\n",
       "      <td>1757</td>\n",
       "      <td>9163</td>\n",
       "      <td>3</td>\n",
       "      <td>861</td>\n",
       "      <td>2</td>\n",
       "      <td>3</td>\n",
       "      <td>85014</td>\n",
       "      <td>1272</td>\n",
       "    </tr>\n",
       "    <tr>\n",
       "      <th>88</th>\n",
       "      <td>89</td>\n",
       "      <td>21</td>\n",
       "      <td>1994</td>\n",
       "      <td>9215</td>\n",
       "      <td>4</td>\n",
       "      <td>881</td>\n",
       "      <td>4</td>\n",
       "      <td>0</td>\n",
       "      <td>85014</td>\n",
       "      <td>1256</td>\n",
       "    </tr>\n",
       "  </tbody>\n",
       "</table>\n",
       "</div>"
      ],
      "text/plain": [
       "    HomeID  HomeAge  HomeSqft  LotSize  BedRooms  HighSchoolAPI  ProxFwy  \\\n",
       "36      37       13      1874     7333         3            960        3   \n",
       "52      53       23      1289     7873         2            857        3   \n",
       "74      75       14      1401     8825         3            940        2   \n",
       "75      76       12      1947     8882         3            954        3   \n",
       "84      85       22      1757     9163         3            861        2   \n",
       "88      89       21      1994     9215         4            881        4   \n",
       "\n",
       "   CarGarage  ZipCode  HomePriceK  \n",
       "36         2    85051        1044  \n",
       "52         0    85051        1074  \n",
       "74         2    84087        1184  \n",
       "75         2    84087        1173  \n",
       "84         3    85014        1272  \n",
       "88         0    85014        1256  "
      ]
     },
     "execution_count": 47,
     "metadata": {},
     "output_type": "execute_result"
    }
   ],
   "source": [
    "df.loc[df.ZipCode == 84085, 'ZipCode'] = 94085\n",
    "df[df['ZipCode'] < 90000]"
   ]
  },
  {
   "cell_type": "code",
   "execution_count": 48,
   "metadata": {},
   "outputs": [
    {
     "data": {
      "text/html": [
       "<div>\n",
       "<style scoped>\n",
       "    .dataframe tbody tr th:only-of-type {\n",
       "        vertical-align: middle;\n",
       "    }\n",
       "\n",
       "    .dataframe tbody tr th {\n",
       "        vertical-align: top;\n",
       "    }\n",
       "\n",
       "    .dataframe thead th {\n",
       "        text-align: right;\n",
       "    }\n",
       "</style>\n",
       "<table border=\"1\" class=\"dataframe\">\n",
       "  <thead>\n",
       "    <tr style=\"text-align: right;\">\n",
       "      <th></th>\n",
       "      <th>HomeID</th>\n",
       "      <th>HomeAge</th>\n",
       "      <th>HomeSqft</th>\n",
       "      <th>LotSize</th>\n",
       "      <th>BedRooms</th>\n",
       "      <th>HighSchoolAPI</th>\n",
       "      <th>ProxFwy</th>\n",
       "      <th>CarGarage</th>\n",
       "      <th>ZipCode</th>\n",
       "      <th>HomePriceK</th>\n",
       "    </tr>\n",
       "  </thead>\n",
       "  <tbody>\n",
       "    <tr>\n",
       "      <th>36</th>\n",
       "      <td>37</td>\n",
       "      <td>13</td>\n",
       "      <td>1874</td>\n",
       "      <td>7333</td>\n",
       "      <td>3</td>\n",
       "      <td>960</td>\n",
       "      <td>3</td>\n",
       "      <td>2</td>\n",
       "      <td>95051</td>\n",
       "      <td>1044</td>\n",
       "    </tr>\n",
       "    <tr>\n",
       "      <th>52</th>\n",
       "      <td>53</td>\n",
       "      <td>23</td>\n",
       "      <td>1289</td>\n",
       "      <td>7873</td>\n",
       "      <td>2</td>\n",
       "      <td>857</td>\n",
       "      <td>3</td>\n",
       "      <td>0</td>\n",
       "      <td>95051</td>\n",
       "      <td>1074</td>\n",
       "    </tr>\n",
       "    <tr>\n",
       "      <th>74</th>\n",
       "      <td>75</td>\n",
       "      <td>14</td>\n",
       "      <td>1401</td>\n",
       "      <td>8825</td>\n",
       "      <td>3</td>\n",
       "      <td>940</td>\n",
       "      <td>2</td>\n",
       "      <td>2</td>\n",
       "      <td>94087</td>\n",
       "      <td>1184</td>\n",
       "    </tr>\n",
       "    <tr>\n",
       "      <th>75</th>\n",
       "      <td>76</td>\n",
       "      <td>12</td>\n",
       "      <td>1947</td>\n",
       "      <td>8882</td>\n",
       "      <td>3</td>\n",
       "      <td>954</td>\n",
       "      <td>3</td>\n",
       "      <td>2</td>\n",
       "      <td>94087</td>\n",
       "      <td>1173</td>\n",
       "    </tr>\n",
       "    <tr>\n",
       "      <th>84</th>\n",
       "      <td>85</td>\n",
       "      <td>22</td>\n",
       "      <td>1757</td>\n",
       "      <td>9163</td>\n",
       "      <td>3</td>\n",
       "      <td>861</td>\n",
       "      <td>2</td>\n",
       "      <td>3</td>\n",
       "      <td>95014</td>\n",
       "      <td>1272</td>\n",
       "    </tr>\n",
       "    <tr>\n",
       "      <th>88</th>\n",
       "      <td>89</td>\n",
       "      <td>21</td>\n",
       "      <td>1994</td>\n",
       "      <td>9215</td>\n",
       "      <td>4</td>\n",
       "      <td>881</td>\n",
       "      <td>4</td>\n",
       "      <td>0</td>\n",
       "      <td>95014</td>\n",
       "      <td>1256</td>\n",
       "    </tr>\n",
       "  </tbody>\n",
       "</table>\n",
       "</div>"
      ],
      "text/plain": [
       "    HomeID  HomeAge  HomeSqft  LotSize  BedRooms  HighSchoolAPI  ProxFwy  \\\n",
       "36      37       13      1874     7333         3            960        3   \n",
       "52      53       23      1289     7873         2            857        3   \n",
       "74      75       14      1401     8825         3            940        2   \n",
       "75      76       12      1947     8882         3            954        3   \n",
       "84      85       22      1757     9163         3            861        2   \n",
       "88      89       21      1994     9215         4            881        4   \n",
       "\n",
       "   CarGarage  ZipCode  HomePriceK  \n",
       "36         2    95051        1044  \n",
       "52         0    95051        1074  \n",
       "74         2    94087        1184  \n",
       "75         2    94087        1173  \n",
       "84         3    95014        1272  \n",
       "88         0    95014        1256  "
      ]
     },
     "execution_count": 48,
     "metadata": {},
     "output_type": "execute_result"
    }
   ],
   "source": [
    "#loc[<row selection>, <column selection>] locates rows by index/label\n",
    "df.loc[df.ZipCode < 90000, 'ZipCode'] += 10000\n",
    "df.loc[[36,52,74,75,84,88]]   "
   ]
  },
  {
   "cell_type": "code",
   "execution_count": 49,
   "metadata": {},
   "outputs": [
    {
     "name": "stdout",
     "output_type": "stream",
     "text": [
      "Zipcode,House_Count\n",
      "94085,25\n",
      "94087,25\n",
      "95014,25\n",
      "95051,25\n"
     ]
    }
   ],
   "source": [
    "print(\"Zipcode,House_Count\")\n",
    "zip_ct = df['ZipCode'].value_counts()\n",
    "\n",
    "zipcode = zip_ct.keys().tolist()\n",
    "house_ct = zip_ct.tolist()\n",
    "\n",
    "zip_house_list = list(zip(zipcode, house_ct))\n",
    "\n",
    "for i, v in sorted(zip_house_list):\n",
    "    print(str(i)+\",\"+str(v))"
   ]
  },
  {
   "cell_type": "markdown",
   "metadata": {},
   "source": [
    "<h1> <b><font color = coral>&#9998; <font color = coral>EXERCISE 10:</h1></font>"
   ]
  },
  {
   "cell_type": "code",
   "execution_count": 50,
   "metadata": {},
   "outputs": [
    {
     "data": {
      "text/plain": [
       "'\\nModify function read_file_housing to multiply incorrect SchoolAPI by 10.\\nAssume API value to be incorrect if it is a two digit number.\\n\\nCalculate average School API by zipcode. Print the following:\\nAverage_SchoolAPI,Cnt_of_homes,ZipCode\\nxyz,mn,abc\\n'"
      ]
     },
     "execution_count": 50,
     "metadata": {},
     "output_type": "execute_result"
    }
   ],
   "source": [
    "\"\"\"\n",
    "Modify function read_file_housing to multiply incorrect SchoolAPI by 10.\n",
    "Assume API value to be incorrect if it is a two digit number.\n",
    "\n",
    "Calculate average School API by zipcode. Print the following:\n",
    "Average_SchoolAPI,Cnt_of_homes,ZipCode\n",
    "xyz,mn,abc\n",
    "\"\"\"\n"
   ]
  },
  {
   "cell_type": "markdown",
   "metadata": {},
   "source": [
    "### Arrays version for #10"
   ]
  },
  {
   "cell_type": "code",
   "execution_count": 51,
   "metadata": {},
   "outputs": [],
   "source": [
    "# SchoolAPI modification is in the read_file_housing function under Exercise 9"
   ]
  },
  {
   "cell_type": "code",
   "execution_count": 52,
   "metadata": {},
   "outputs": [
    {
     "name": "stdout",
     "output_type": "stream",
     "text": [
      "Average_SchoolAPI,Cnt_of_homes,ZipCode\n",
      "907.0,25,94085\n",
      "899.24,25,94087\n",
      "894.8,25,95014\n",
      "916.68,25,95051\n"
     ]
    }
   ],
   "source": [
    "zipcode_API = {}\n",
    "# for all rows, extract all zipcodes\n",
    "for k in range(0,len(housing_data2)):\n",
    "    if housing_data2[k][8] not in zipcode_API:\n",
    "        zipcode_API[housing_data2[k][8]] = [int(housing_data2[k][5])]\n",
    "    else:\n",
    "        zipcode_API[housing_data2[k][8]].append(int(housing_data2[k][5]))  # a list of HighSchoolAPIs for each zipcode\n",
    "    \n",
    "print(\"Average_SchoolAPI,Cnt_of_homes,ZipCode\")    \n",
    "for i,v in sorted(zipcode_API.items()):\n",
    "    print(str(average(v))+','+str(len(v))+','+i)"
   ]
  },
  {
   "cell_type": "markdown",
   "metadata": {},
   "source": [
    "### Pandas version for #10"
   ]
  },
  {
   "cell_type": "code",
   "execution_count": 53,
   "metadata": {},
   "outputs": [
    {
     "data": {
      "text/html": [
       "<div>\n",
       "<style scoped>\n",
       "    .dataframe tbody tr th:only-of-type {\n",
       "        vertical-align: middle;\n",
       "    }\n",
       "\n",
       "    .dataframe tbody tr th {\n",
       "        vertical-align: top;\n",
       "    }\n",
       "\n",
       "    .dataframe thead th {\n",
       "        text-align: right;\n",
       "    }\n",
       "</style>\n",
       "<table border=\"1\" class=\"dataframe\">\n",
       "  <thead>\n",
       "    <tr style=\"text-align: right;\">\n",
       "      <th></th>\n",
       "      <th>HomeID</th>\n",
       "      <th>HomeAge</th>\n",
       "      <th>HomeSqft</th>\n",
       "      <th>LotSize</th>\n",
       "      <th>BedRooms</th>\n",
       "      <th>HighSchoolAPI</th>\n",
       "      <th>ProxFwy</th>\n",
       "      <th>CarGarage</th>\n",
       "      <th>ZipCode</th>\n",
       "      <th>HomePriceK</th>\n",
       "    </tr>\n",
       "  </thead>\n",
       "  <tbody>\n",
       "    <tr>\n",
       "      <th>9</th>\n",
       "      <td>10</td>\n",
       "      <td>24</td>\n",
       "      <td>1933</td>\n",
       "      <td>6276</td>\n",
       "      <td>2</td>\n",
       "      <td>950</td>\n",
       "      <td>4</td>\n",
       "      <td>1</td>\n",
       "      <td>94085</td>\n",
       "      <td>885</td>\n",
       "    </tr>\n",
       "    <tr>\n",
       "      <th>28</th>\n",
       "      <td>29</td>\n",
       "      <td>17</td>\n",
       "      <td>1446</td>\n",
       "      <td>7098</td>\n",
       "      <td>2</td>\n",
       "      <td>900</td>\n",
       "      <td>4</td>\n",
       "      <td>3</td>\n",
       "      <td>94085</td>\n",
       "      <td>919</td>\n",
       "    </tr>\n",
       "    <tr>\n",
       "      <th>44</th>\n",
       "      <td>45</td>\n",
       "      <td>15</td>\n",
       "      <td>1249</td>\n",
       "      <td>7609</td>\n",
       "      <td>3</td>\n",
       "      <td>960</td>\n",
       "      <td>2</td>\n",
       "      <td>2</td>\n",
       "      <td>95051</td>\n",
       "      <td>1000</td>\n",
       "    </tr>\n",
       "    <tr>\n",
       "      <th>54</th>\n",
       "      <td>55</td>\n",
       "      <td>10</td>\n",
       "      <td>1721</td>\n",
       "      <td>7902</td>\n",
       "      <td>3</td>\n",
       "      <td>890</td>\n",
       "      <td>3</td>\n",
       "      <td>3</td>\n",
       "      <td>95051</td>\n",
       "      <td>1075</td>\n",
       "    </tr>\n",
       "    <tr>\n",
       "      <th>60</th>\n",
       "      <td>61</td>\n",
       "      <td>13</td>\n",
       "      <td>1432</td>\n",
       "      <td>8121</td>\n",
       "      <td>2</td>\n",
       "      <td>900</td>\n",
       "      <td>3</td>\n",
       "      <td>0</td>\n",
       "      <td>94087</td>\n",
       "      <td>1177</td>\n",
       "    </tr>\n",
       "    <tr>\n",
       "      <th>64</th>\n",
       "      <td>65</td>\n",
       "      <td>14</td>\n",
       "      <td>1617</td>\n",
       "      <td>8394</td>\n",
       "      <td>2</td>\n",
       "      <td>850</td>\n",
       "      <td>2</td>\n",
       "      <td>0</td>\n",
       "      <td>94087</td>\n",
       "      <td>1138</td>\n",
       "    </tr>\n",
       "    <tr>\n",
       "      <th>72</th>\n",
       "      <td>73</td>\n",
       "      <td>25</td>\n",
       "      <td>1302</td>\n",
       "      <td>8668</td>\n",
       "      <td>3</td>\n",
       "      <td>850</td>\n",
       "      <td>4</td>\n",
       "      <td>2</td>\n",
       "      <td>95014</td>\n",
       "      <td>1240</td>\n",
       "    </tr>\n",
       "    <tr>\n",
       "      <th>91</th>\n",
       "      <td>92</td>\n",
       "      <td>18</td>\n",
       "      <td>1846</td>\n",
       "      <td>9292</td>\n",
       "      <td>4</td>\n",
       "      <td>920</td>\n",
       "      <td>4</td>\n",
       "      <td>3</td>\n",
       "      <td>95014</td>\n",
       "      <td>1294</td>\n",
       "    </tr>\n",
       "  </tbody>\n",
       "</table>\n",
       "</div>"
      ],
      "text/plain": [
       "    HomeID  HomeAge  HomeSqft  LotSize  BedRooms  HighSchoolAPI  ProxFwy  \\\n",
       "9       10       24      1933     6276         2            950        4   \n",
       "28      29       17      1446     7098         2            900        4   \n",
       "44      45       15      1249     7609         3            960        2   \n",
       "54      55       10      1721     7902         3            890        3   \n",
       "60      61       13      1432     8121         2            900        3   \n",
       "64      65       14      1617     8394         2            850        2   \n",
       "72      73       25      1302     8668         3            850        4   \n",
       "91      92       18      1846     9292         4            920        4   \n",
       "\n",
       "   CarGarage  ZipCode  HomePriceK  \n",
       "9          1    94085         885  \n",
       "28         3    94085         919  \n",
       "44         2    95051        1000  \n",
       "54         3    95051        1075  \n",
       "60         0    94087        1177  \n",
       "64         0    94087        1138  \n",
       "72         2    95014        1240  \n",
       "91         3    95014        1294  "
      ]
     },
     "execution_count": 53,
     "metadata": {},
     "output_type": "execute_result"
    }
   ],
   "source": [
    "#Your answer here\n",
    "df.loc[df.HighSchoolAPI < 100]\n",
    "df.loc[df.HighSchoolAPI < 100, 'HighSchoolAPI'] *= 10\n",
    "df.loc[[9,28,44,54,60,64,72,91]]"
   ]
  },
  {
   "cell_type": "code",
   "execution_count": 54,
   "metadata": {},
   "outputs": [
    {
     "name": "stdout",
     "output_type": "stream",
     "text": [
      "Average_SchoolAPI,Cnt_of_homes,ZipCode\n",
      "907.0,25,94085\n",
      "899.24,25,94087\n",
      "894.8,25,95014\n",
      "916.68,25,95051\n"
     ]
    }
   ],
   "source": [
    "meanAPI = df.groupby(['ZipCode'], as_index=False)['HighSchoolAPI'].mean()\n",
    "home_ct = df.groupby(['ZipCode'])['ZipCode'].count()\n",
    "meanAPI2 = df.groupby(['ZipCode'], as_index=False)['HighSchoolAPI'].agg(['mean', 'count'])\n",
    "meanAPI2\n",
    "#pd.merge(home_ct, meanAPI, on='ZipCode') #cannot merge as the result of groupby is a Series for the ZipCode count\n",
    "\n",
    "print(\"Average_SchoolAPI,Cnt_of_homes,ZipCode\")\n",
    "\n",
    "meanAPI2 = meanAPI2.reset_index()  #After GroupBy, ZipCode became the index, reset index so that ZipCode becomes a column again\n",
    "\n",
    "#re-arrange the column orders to display of the results in the requested format\n",
    "for n in range(len(meanAPI2)):\n",
    "    print(str(meanAPI2['mean'][n])+','+str(meanAPI2['count'][n])+','+str(meanAPI2['ZipCode'][n]))\n"
   ]
  },
  {
   "cell_type": "markdown",
   "metadata": {},
   "source": [
    "<h1> <b><font color = coral>&#9998; <font color = coral>EXERCISE 11:</h1></font>"
   ]
  },
  {
   "cell_type": "code",
   "execution_count": 55,
   "metadata": {},
   "outputs": [
    {
     "data": {
      "text/plain": [
       "\"\\nModify function read_file_housing to replace CarGarage value of 'l' with integer 1\\nCalculate and print the following:\\nCar_Garage,Cnt_of_homes\\n0,m\\n1,n\\n2,o\\n3,p\\n\""
      ]
     },
     "execution_count": 55,
     "metadata": {},
     "output_type": "execute_result"
    }
   ],
   "source": [
    "\"\"\"\n",
    "Modify function read_file_housing to replace CarGarage value of 'l' with integer 1\n",
    "Calculate and print the following:\n",
    "Car_Garage,Cnt_of_homes\n",
    "0,m\n",
    "1,n\n",
    "2,o\n",
    "3,p\n",
    "\"\"\""
   ]
  },
  {
   "cell_type": "markdown",
   "metadata": {},
   "source": [
    "### Arrays version for #11"
   ]
  },
  {
   "cell_type": "code",
   "execution_count": 56,
   "metadata": {},
   "outputs": [],
   "source": [
    "# CarGarage modification is in the read_file_housing function under Exercise 9"
   ]
  },
  {
   "cell_type": "code",
   "execution_count": 57,
   "metadata": {},
   "outputs": [
    {
     "name": "stdout",
     "output_type": "stream",
     "text": [
      "Car_Garage,Cnt_of_homes\n",
      "0,31\n",
      "1,18\n",
      "2,19\n",
      "3,32\n"
     ]
    }
   ],
   "source": [
    "garage_ct = {}\n",
    "# for all rows, extract CarGarage size\n",
    "for k in range(0,len(housing_data2)):\n",
    "    if housing_data2[k][7] not in garage_ct:\n",
    "        garage_ct[housing_data2[k][7]] = 1\n",
    "    else:\n",
    "        garage_ct[housing_data2[k][7]] += 1\n",
    "    \n",
    "print(\"Car_Garage,Cnt_of_homes\")    \n",
    "for i,v in sorted(garage_ct.items()):\n",
    "    print(i+','+str(v))"
   ]
  },
  {
   "cell_type": "markdown",
   "metadata": {},
   "source": [
    "### Pandas version for #11"
   ]
  },
  {
   "cell_type": "code",
   "execution_count": 58,
   "metadata": {},
   "outputs": [
    {
     "data": {
      "text/html": [
       "<div>\n",
       "<style scoped>\n",
       "    .dataframe tbody tr th:only-of-type {\n",
       "        vertical-align: middle;\n",
       "    }\n",
       "\n",
       "    .dataframe tbody tr th {\n",
       "        vertical-align: top;\n",
       "    }\n",
       "\n",
       "    .dataframe thead th {\n",
       "        text-align: right;\n",
       "    }\n",
       "</style>\n",
       "<table border=\"1\" class=\"dataframe\">\n",
       "  <thead>\n",
       "    <tr style=\"text-align: right;\">\n",
       "      <th></th>\n",
       "      <th>HomeID</th>\n",
       "      <th>HomeAge</th>\n",
       "      <th>HomeSqft</th>\n",
       "      <th>LotSize</th>\n",
       "      <th>BedRooms</th>\n",
       "      <th>HighSchoolAPI</th>\n",
       "      <th>ProxFwy</th>\n",
       "      <th>CarGarage</th>\n",
       "      <th>ZipCode</th>\n",
       "      <th>HomePriceK</th>\n",
       "    </tr>\n",
       "  </thead>\n",
       "  <tbody>\n",
       "    <tr>\n",
       "      <th>12</th>\n",
       "      <td>13</td>\n",
       "      <td>15</td>\n",
       "      <td>1541</td>\n",
       "      <td>6514</td>\n",
       "      <td>2</td>\n",
       "      <td>872</td>\n",
       "      <td>2</td>\n",
       "      <td>1</td>\n",
       "      <td>94085</td>\n",
       "      <td>933</td>\n",
       "    </tr>\n",
       "    <tr>\n",
       "      <th>23</th>\n",
       "      <td>24</td>\n",
       "      <td>10</td>\n",
       "      <td>1598</td>\n",
       "      <td>7011</td>\n",
       "      <td>2</td>\n",
       "      <td>911</td>\n",
       "      <td>3</td>\n",
       "      <td>1</td>\n",
       "      <td>95051</td>\n",
       "      <td>972</td>\n",
       "    </tr>\n",
       "    <tr>\n",
       "      <th>53</th>\n",
       "      <td>54</td>\n",
       "      <td>12</td>\n",
       "      <td>1401</td>\n",
       "      <td>7897</td>\n",
       "      <td>3</td>\n",
       "      <td>888</td>\n",
       "      <td>4</td>\n",
       "      <td>1</td>\n",
       "      <td>94087</td>\n",
       "      <td>1114</td>\n",
       "    </tr>\n",
       "    <tr>\n",
       "      <th>95</th>\n",
       "      <td>96</td>\n",
       "      <td>11</td>\n",
       "      <td>1981</td>\n",
       "      <td>9350</td>\n",
       "      <td>4</td>\n",
       "      <td>912</td>\n",
       "      <td>2</td>\n",
       "      <td>1</td>\n",
       "      <td>95014</td>\n",
       "      <td>1307</td>\n",
       "    </tr>\n",
       "  </tbody>\n",
       "</table>\n",
       "</div>"
      ],
      "text/plain": [
       "    HomeID  HomeAge  HomeSqft  LotSize  BedRooms  HighSchoolAPI  ProxFwy  \\\n",
       "12      13       15      1541     6514         2            872        2   \n",
       "23      24       10      1598     7011         2            911        3   \n",
       "53      54       12      1401     7897         3            888        4   \n",
       "95      96       11      1981     9350         4            912        2   \n",
       "\n",
       "    CarGarage  ZipCode  HomePriceK  \n",
       "12          1    94085         933  \n",
       "23          1    95051         972  \n",
       "53          1    94087        1114  \n",
       "95          1    95014        1307  "
      ]
     },
     "execution_count": 58,
     "metadata": {},
     "output_type": "execute_result"
    }
   ],
   "source": [
    "df.loc[df.CarGarage == 'l', 'CarGarage'] = 1\n",
    "df.CarGarage = pd.to_numeric(df.CarGarage)\n",
    "df.dtypes\n",
    "df.loc[[12,23,53,95]]\n",
    "\n"
   ]
  },
  {
   "cell_type": "code",
   "execution_count": 59,
   "metadata": {},
   "outputs": [
    {
     "name": "stdout",
     "output_type": "stream",
     "text": [
      "Car_Garage,Cnt_of_homes\n",
      "0,31\n",
      "1,18\n",
      "2,19\n",
      "3,32\n"
     ]
    }
   ],
   "source": [
    "from collections import Counter\n",
    "garage_ctr = Counter(df.CarGarage)\n",
    "\n",
    "#Counter.most_common() gives a list of tuples with (key, count) in descending order by default\n",
    "#Hence need to sort it with the key which is the first element of the tuple x[0]\n",
    "garage_home_ct = sorted(garage_ctr.most_common(), key=lambda x: x[0])  \n",
    "\n",
    "print(\"Car_Garage,Cnt_of_homes\")\n",
    "for i, v in garage_home_ct:\n",
    "    print(str(i)+','+str(v))\n"
   ]
  },
  {
   "cell_type": "markdown",
   "metadata": {},
   "source": [
    "<h1> <b><font color = coral>&#9998; <font color = coral>EXERCISE 12:</h1></font>"
   ]
  },
  {
   "cell_type": "code",
   "execution_count": 60,
   "metadata": {},
   "outputs": [
    {
     "data": {
      "text/plain": [
       "'\\nFind the average price of a home in this four zip codes area.\\nZipcode,Avg_Price,Cnt_of_homes\\n'"
      ]
     },
     "execution_count": 60,
     "metadata": {},
     "output_type": "execute_result"
    }
   ],
   "source": [
    "\"\"\"\n",
    "Find the average price of a home in this four zip codes area.\n",
    "Zipcode,Avg_Price,Cnt_of_homes\n",
    "\"\"\""
   ]
  },
  {
   "cell_type": "markdown",
   "metadata": {},
   "source": [
    "### Arrays version for #12"
   ]
  },
  {
   "cell_type": "code",
   "execution_count": 61,
   "metadata": {},
   "outputs": [
    {
     "name": "stdout",
     "output_type": "stream",
     "text": [
      "Zipcode,Avg_Price,Cnt_of_homes\n",
      "94085,885.96,25\n",
      "94087,1151.48,25\n",
      "95014,1263.32,25\n",
      "95051,1023.2,25\n"
     ]
    }
   ],
   "source": [
    "zipcode_price = {}\n",
    "# for all rows, extract all zipcodes\n",
    "for k in range(0,len(housing_data2)):\n",
    "    if housing_data2[k][8] not in zipcode_price:\n",
    "        zipcode_price[housing_data2[k][8]] = [int(housing_data2[k][9])]\n",
    "    else:\n",
    "        zipcode_price[housing_data2[k][8]].append(int(housing_data2[k][9]))  # a list of HomePrice's for each zipcode\n",
    "    \n",
    "print(\"Zipcode,Avg_Price,Cnt_of_homes\")    \n",
    "for i,v in sorted(zipcode_price.items()):\n",
    "    print(i+','+str(average(v))+','+str(len(v)))"
   ]
  },
  {
   "cell_type": "markdown",
   "metadata": {},
   "source": [
    "### Pandas version for #12"
   ]
  },
  {
   "cell_type": "code",
   "execution_count": 62,
   "metadata": {},
   "outputs": [
    {
     "name": "stdout",
     "output_type": "stream",
     "text": [
      "Zipcode,Avg_Price,Cnt_of_homes\n",
      "94085,885.96,25\n",
      "94087,1151.48,25\n",
      "95014,1263.32,25\n",
      "95051,1023.2,25\n"
     ]
    }
   ],
   "source": [
    "meanPrice = df.groupby(['ZipCode'], as_index=False)['HomePriceK'].agg(['mean', 'count'])\n",
    "meanPrice = meanPrice.reset_index()\n",
    "\n",
    "print(\"Zipcode,Avg_Price,Cnt_of_homes\")\n",
    "for i in range(len(meanPrice)):\n",
    "    print(str(meanPrice['ZipCode'][i])+','+str(meanPrice['mean'][i])+','+str(meanPrice['count'][i]))"
   ]
  },
  {
   "cell_type": "markdown",
   "metadata": {},
   "source": [
    "<h1> <b><font color = coral>&#9998; <font color = coral>EXERCISE 13:</h1></font>"
   ]
  },
  {
   "cell_type": "code",
   "execution_count": 63,
   "metadata": {},
   "outputs": [
    {
     "data": {
      "text/plain": [
       "'\\nFind the average price of a home in Sunnyvale (94087 and 94085).\\nPrint the output as follows:\\nThe average house price in Sunnyvale based on xx homes is $yyy (thousands).\\n'"
      ]
     },
     "execution_count": 63,
     "metadata": {},
     "output_type": "execute_result"
    }
   ],
   "source": [
    "\"\"\"\n",
    "Find the average price of a home in Sunnyvale (94087 and 94085).\n",
    "Print the output as follows:\n",
    "The average house price in Sunnyvale based on xx homes is $yyy (thousands).\n",
    "\"\"\""
   ]
  },
  {
   "cell_type": "markdown",
   "metadata": {},
   "source": [
    "### Array version for #13"
   ]
  },
  {
   "cell_type": "code",
   "execution_count": 64,
   "metadata": {},
   "outputs": [
    {
     "name": "stdout",
     "output_type": "stream",
     "text": [
      "The average house price in Sunnyvale based on 50 homes is $1018.72 (thousands).\n"
     ]
    }
   ],
   "source": [
    "sunnyvale_price = []\n",
    "\n",
    "for k in range(0,len(housing_data2)):\n",
    "    if housing_data2[k][8] in ['94087','94085']:\n",
    "        sunnyvale_price.append(int(housing_data2[k][9]))  # a list of HomePrice's for those with Sunnyvale zipcodes\n",
    "    \n",
    "print(\"The average house price in Sunnyvale based on \"+str(len(sunnyvale_price))+\" homes is $\"+str(average(sunnyvale_price))+\" (thousands).\")    \n"
   ]
  },
  {
   "cell_type": "markdown",
   "metadata": {},
   "source": [
    "### Pandas version for #13"
   ]
  },
  {
   "cell_type": "code",
   "execution_count": 65,
   "metadata": {},
   "outputs": [
    {
     "name": "stdout",
     "output_type": "stream",
     "text": [
      "The average house price in Sunnyvale based on 50 homes is $1018.72 (thousands).\n"
     ]
    }
   ],
   "source": [
    "SunnyPrice = df.groupby(['ZipCode'], as_index=False).get_group(94085)['HomePriceK'].agg(['sum', 'count'])\n",
    "ValePrice = df.groupby(['ZipCode'], as_index=False).get_group(94087)['HomePriceK'].agg(['sum', 'count'])\n",
    "sunnyvale_ct = SunnyPrice['count']+ValePrice['count']\n",
    "sunnyvale_avg = (SunnyPrice['sum']+ValePrice['sum'])/sunnyvale_ct\n",
    "\n",
    "print(\"The average house price in Sunnyvale based on \"+str(sunnyvale_ct)+\" homes is $\"+str(sunnyvale_avg)+\" (thousands).\")\n"
   ]
  }
 ],
 "metadata": {
  "kernelspec": {
   "display_name": "Python 3",
   "language": "python",
   "name": "python3"
  },
  "language_info": {
   "codemirror_mode": {
    "name": "ipython",
    "version": 3
   },
   "file_extension": ".py",
   "mimetype": "text/x-python",
   "name": "python",
   "nbconvert_exporter": "python",
   "pygments_lexer": "ipython3",
   "version": "3.6.5"
  }
 },
 "nbformat": 4,
 "nbformat_minor": 2
}
