{
 "cells": [
  {
   "cell_type": "code",
   "execution_count": 1,
   "metadata": {},
   "outputs": [],
   "source": [
    "# Pandas Data Cleaning and Exploratory Data Analysis (EDA)"
   ]
  },
  {
   "cell_type": "code",
   "execution_count": 2,
   "metadata": {},
   "outputs": [],
   "source": [
    "import pandas as pd"
   ]
  },
  {
   "cell_type": "markdown",
   "metadata": {},
   "source": [
    "## Upload Data"
   ]
  },
  {
   "cell_type": "code",
   "execution_count": 3,
   "metadata": {},
   "outputs": [],
   "source": [
    "housing_header = [\"HomeID\", \"HomeAge\", \"HomeSqft\", \"LotSize\", \"BedRooms\", \n",
    "                  \"HighSchoolAPI\", \"ProxFwy\", \"CarGarage\", \"ZipCode\", \"HomePriceK\"]\n",
    "df = pd.read_csv(\"fixed-housing-data.csv\",names=housing_header)\n",
    "#what does this do?"
   ]
  },
  {
   "cell_type": "code",
   "execution_count": 4,
   "metadata": {},
   "outputs": [
    {
     "data": {
      "text/html": [
       "<div>\n",
       "<style scoped>\n",
       "    .dataframe tbody tr th:only-of-type {\n",
       "        vertical-align: middle;\n",
       "    }\n",
       "\n",
       "    .dataframe tbody tr th {\n",
       "        vertical-align: top;\n",
       "    }\n",
       "\n",
       "    .dataframe thead th {\n",
       "        text-align: right;\n",
       "    }\n",
       "</style>\n",
       "<table border=\"1\" class=\"dataframe\">\n",
       "  <thead>\n",
       "    <tr style=\"text-align: right;\">\n",
       "      <th></th>\n",
       "      <th>HomeID</th>\n",
       "      <th>HomeAge</th>\n",
       "      <th>HomeSqft</th>\n",
       "      <th>LotSize</th>\n",
       "      <th>BedRooms</th>\n",
       "      <th>HighSchoolAPI</th>\n",
       "      <th>ProxFwy</th>\n",
       "      <th>CarGarage</th>\n",
       "      <th>ZipCode</th>\n",
       "      <th>HomePriceK</th>\n",
       "    </tr>\n",
       "  </thead>\n",
       "  <tbody>\n",
       "    <tr>\n",
       "      <th>0</th>\n",
       "      <td>1</td>\n",
       "      <td>24</td>\n",
       "      <td>1757</td>\n",
       "      <td>6056</td>\n",
       "      <td>2</td>\n",
       "      <td>899</td>\n",
       "      <td>3</td>\n",
       "      <td>3</td>\n",
       "      <td>94085</td>\n",
       "      <td>894</td>\n",
       "    </tr>\n",
       "    <tr>\n",
       "      <th>1</th>\n",
       "      <td>2</td>\n",
       "      <td>10</td>\n",
       "      <td>1563</td>\n",
       "      <td>6085</td>\n",
       "      <td>2</td>\n",
       "      <td>959</td>\n",
       "      <td>4</td>\n",
       "      <td>3</td>\n",
       "      <td>94085</td>\n",
       "      <td>861</td>\n",
       "    </tr>\n",
       "    <tr>\n",
       "      <th>2</th>\n",
       "      <td>3</td>\n",
       "      <td>14</td>\n",
       "      <td>1344</td>\n",
       "      <td>6089</td>\n",
       "      <td>2</td>\n",
       "      <td>865</td>\n",
       "      <td>4</td>\n",
       "      <td>3</td>\n",
       "      <td>94085</td>\n",
       "      <td>831</td>\n",
       "    </tr>\n",
       "    <tr>\n",
       "      <th>3</th>\n",
       "      <td>4</td>\n",
       "      <td>14</td>\n",
       "      <td>1215</td>\n",
       "      <td>6129</td>\n",
       "      <td>3</td>\n",
       "      <td>959</td>\n",
       "      <td>4</td>\n",
       "      <td>2</td>\n",
       "      <td>94085</td>\n",
       "      <td>809</td>\n",
       "    </tr>\n",
       "    <tr>\n",
       "      <th>4</th>\n",
       "      <td>5</td>\n",
       "      <td>24</td>\n",
       "      <td>1866</td>\n",
       "      <td>6141</td>\n",
       "      <td>3</td>\n",
       "      <td>877</td>\n",
       "      <td>4</td>\n",
       "      <td>1</td>\n",
       "      <td>94085</td>\n",
       "      <td>890</td>\n",
       "    </tr>\n",
       "  </tbody>\n",
       "</table>\n",
       "</div>"
      ],
      "text/plain": [
       "   HomeID  HomeAge  HomeSqft  LotSize  BedRooms  HighSchoolAPI  ProxFwy  \\\n",
       "0       1       24      1757     6056         2            899        3   \n",
       "1       2       10      1563     6085         2            959        4   \n",
       "2       3       14      1344     6089         2            865        4   \n",
       "3       4       14      1215     6129         3            959        4   \n",
       "4       5       24      1866     6141         3            877        4   \n",
       "\n",
       "   CarGarage  ZipCode  HomePriceK  \n",
       "0          3    94085         894  \n",
       "1          3    94085         861  \n",
       "2          3    94085         831  \n",
       "3          2    94085         809  \n",
       "4          1    94085         890  "
      ]
     },
     "execution_count": 4,
     "metadata": {},
     "output_type": "execute_result"
    }
   ],
   "source": [
    "df.head()"
   ]
  },
  {
   "cell_type": "markdown",
   "metadata": {},
   "source": [
    "Why did we only want to display the first 5 rows of the dataframe?\n",
    "\n",
    "What if we wanted to see the size of this dataframe?"
   ]
  },
  {
   "cell_type": "code",
   "execution_count": 5,
   "metadata": {},
   "outputs": [
    {
     "data": {
      "text/plain": [
       "100"
      ]
     },
     "execution_count": 5,
     "metadata": {},
     "output_type": "execute_result"
    }
   ],
   "source": [
    "# number of rows\n",
    "len(df)"
   ]
  },
  {
   "cell_type": "code",
   "execution_count": 6,
   "metadata": {},
   "outputs": [
    {
     "data": {
      "text/plain": [
       "(100, 10)"
      ]
     },
     "execution_count": 6,
     "metadata": {},
     "output_type": "execute_result"
    }
   ],
   "source": [
    "# shape of df (rows, columns)\n",
    "df.shape"
   ]
  },
  {
   "cell_type": "markdown",
   "metadata": {},
   "source": [
    "## Change Column Name(s)"
   ]
  },
  {
   "cell_type": "markdown",
   "metadata": {},
   "source": [
    "Why would we want to change the column names?"
   ]
  },
  {
   "cell_type": "code",
   "execution_count": 7,
   "metadata": {},
   "outputs": [
    {
     "data": {
      "text/html": [
       "<div>\n",
       "<style scoped>\n",
       "    .dataframe tbody tr th:only-of-type {\n",
       "        vertical-align: middle;\n",
       "    }\n",
       "\n",
       "    .dataframe tbody tr th {\n",
       "        vertical-align: top;\n",
       "    }\n",
       "\n",
       "    .dataframe thead th {\n",
       "        text-align: right;\n",
       "    }\n",
       "</style>\n",
       "<table border=\"1\" class=\"dataframe\">\n",
       "  <thead>\n",
       "    <tr style=\"text-align: right;\">\n",
       "      <th></th>\n",
       "      <th>HomeID</th>\n",
       "      <th>HomeAge</th>\n",
       "      <th>HomeSqft</th>\n",
       "      <th>LotSize</th>\n",
       "      <th>BedRooms</th>\n",
       "      <th>SchoolAPI</th>\n",
       "      <th>ProxFwy</th>\n",
       "      <th>CarGarage</th>\n",
       "      <th>ZipCode</th>\n",
       "      <th>HomePriceK</th>\n",
       "    </tr>\n",
       "  </thead>\n",
       "  <tbody>\n",
       "    <tr>\n",
       "      <th>0</th>\n",
       "      <td>1</td>\n",
       "      <td>24</td>\n",
       "      <td>1757</td>\n",
       "      <td>6056</td>\n",
       "      <td>2</td>\n",
       "      <td>899</td>\n",
       "      <td>3</td>\n",
       "      <td>3</td>\n",
       "      <td>94085</td>\n",
       "      <td>894</td>\n",
       "    </tr>\n",
       "    <tr>\n",
       "      <th>1</th>\n",
       "      <td>2</td>\n",
       "      <td>10</td>\n",
       "      <td>1563</td>\n",
       "      <td>6085</td>\n",
       "      <td>2</td>\n",
       "      <td>959</td>\n",
       "      <td>4</td>\n",
       "      <td>3</td>\n",
       "      <td>94085</td>\n",
       "      <td>861</td>\n",
       "    </tr>\n",
       "    <tr>\n",
       "      <th>2</th>\n",
       "      <td>3</td>\n",
       "      <td>14</td>\n",
       "      <td>1344</td>\n",
       "      <td>6089</td>\n",
       "      <td>2</td>\n",
       "      <td>865</td>\n",
       "      <td>4</td>\n",
       "      <td>3</td>\n",
       "      <td>94085</td>\n",
       "      <td>831</td>\n",
       "    </tr>\n",
       "    <tr>\n",
       "      <th>3</th>\n",
       "      <td>4</td>\n",
       "      <td>14</td>\n",
       "      <td>1215</td>\n",
       "      <td>6129</td>\n",
       "      <td>3</td>\n",
       "      <td>959</td>\n",
       "      <td>4</td>\n",
       "      <td>2</td>\n",
       "      <td>94085</td>\n",
       "      <td>809</td>\n",
       "    </tr>\n",
       "    <tr>\n",
       "      <th>4</th>\n",
       "      <td>5</td>\n",
       "      <td>24</td>\n",
       "      <td>1866</td>\n",
       "      <td>6141</td>\n",
       "      <td>3</td>\n",
       "      <td>877</td>\n",
       "      <td>4</td>\n",
       "      <td>1</td>\n",
       "      <td>94085</td>\n",
       "      <td>890</td>\n",
       "    </tr>\n",
       "  </tbody>\n",
       "</table>\n",
       "</div>"
      ],
      "text/plain": [
       "   HomeID  HomeAge  HomeSqft  LotSize  BedRooms  SchoolAPI  ProxFwy  \\\n",
       "0       1       24      1757     6056         2        899        3   \n",
       "1       2       10      1563     6085         2        959        4   \n",
       "2       3       14      1344     6089         2        865        4   \n",
       "3       4       14      1215     6129         3        959        4   \n",
       "4       5       24      1866     6141         3        877        4   \n",
       "\n",
       "   CarGarage  ZipCode  HomePriceK  \n",
       "0          3    94085         894  \n",
       "1          3    94085         861  \n",
       "2          3    94085         831  \n",
       "3          2    94085         809  \n",
       "4          1    94085         890  "
      ]
     },
     "execution_count": 7,
     "metadata": {},
     "output_type": "execute_result"
    }
   ],
   "source": [
    "df = df.rename(columns={'HighSchoolAPI': 'SchoolAPI'})\n",
    "df.head()"
   ]
  },
  {
   "cell_type": "markdown",
   "metadata": {},
   "source": [
    "## Create New Columns"
   ]
  },
  {
   "cell_type": "markdown",
   "metadata": {},
   "source": [
    "What is new information about \"Block_Location\" that we can actually use and save?\n",
    "\n",
    "Let's create new columns for the information we extracted from those values."
   ]
  },
  {
   "cell_type": "code",
   "execution_count": 8,
   "metadata": {},
   "outputs": [
    {
     "data": {
      "text/html": [
       "<div>\n",
       "<style scoped>\n",
       "    .dataframe tbody tr th:only-of-type {\n",
       "        vertical-align: middle;\n",
       "    }\n",
       "\n",
       "    .dataframe tbody tr th {\n",
       "        vertical-align: top;\n",
       "    }\n",
       "\n",
       "    .dataframe thead th {\n",
       "        text-align: right;\n",
       "    }\n",
       "</style>\n",
       "<table border=\"1\" class=\"dataframe\">\n",
       "  <thead>\n",
       "    <tr style=\"text-align: right;\">\n",
       "      <th></th>\n",
       "      <th>HomeID</th>\n",
       "      <th>HomeAge</th>\n",
       "      <th>HomeSqft</th>\n",
       "      <th>LotSize</th>\n",
       "      <th>BedRooms</th>\n",
       "      <th>SchoolAPI</th>\n",
       "      <th>ProxFwy</th>\n",
       "      <th>CarGarage</th>\n",
       "      <th>ZipCode</th>\n",
       "      <th>HomePriceK</th>\n",
       "      <th>Price2019</th>\n",
       "    </tr>\n",
       "  </thead>\n",
       "  <tbody>\n",
       "    <tr>\n",
       "      <th>0</th>\n",
       "      <td>1</td>\n",
       "      <td>24</td>\n",
       "      <td>1757</td>\n",
       "      <td>6056</td>\n",
       "      <td>2</td>\n",
       "      <td>899</td>\n",
       "      <td>3</td>\n",
       "      <td>3</td>\n",
       "      <td>94085</td>\n",
       "      <td>894</td>\n",
       "      <td>929.76</td>\n",
       "    </tr>\n",
       "    <tr>\n",
       "      <th>1</th>\n",
       "      <td>2</td>\n",
       "      <td>10</td>\n",
       "      <td>1563</td>\n",
       "      <td>6085</td>\n",
       "      <td>2</td>\n",
       "      <td>959</td>\n",
       "      <td>4</td>\n",
       "      <td>3</td>\n",
       "      <td>94085</td>\n",
       "      <td>861</td>\n",
       "      <td>895.44</td>\n",
       "    </tr>\n",
       "    <tr>\n",
       "      <th>2</th>\n",
       "      <td>3</td>\n",
       "      <td>14</td>\n",
       "      <td>1344</td>\n",
       "      <td>6089</td>\n",
       "      <td>2</td>\n",
       "      <td>865</td>\n",
       "      <td>4</td>\n",
       "      <td>3</td>\n",
       "      <td>94085</td>\n",
       "      <td>831</td>\n",
       "      <td>864.24</td>\n",
       "    </tr>\n",
       "    <tr>\n",
       "      <th>3</th>\n",
       "      <td>4</td>\n",
       "      <td>14</td>\n",
       "      <td>1215</td>\n",
       "      <td>6129</td>\n",
       "      <td>3</td>\n",
       "      <td>959</td>\n",
       "      <td>4</td>\n",
       "      <td>2</td>\n",
       "      <td>94085</td>\n",
       "      <td>809</td>\n",
       "      <td>841.36</td>\n",
       "    </tr>\n",
       "    <tr>\n",
       "      <th>4</th>\n",
       "      <td>5</td>\n",
       "      <td>24</td>\n",
       "      <td>1866</td>\n",
       "      <td>6141</td>\n",
       "      <td>3</td>\n",
       "      <td>877</td>\n",
       "      <td>4</td>\n",
       "      <td>1</td>\n",
       "      <td>94085</td>\n",
       "      <td>890</td>\n",
       "      <td>925.60</td>\n",
       "    </tr>\n",
       "  </tbody>\n",
       "</table>\n",
       "</div>"
      ],
      "text/plain": [
       "   HomeID  HomeAge  HomeSqft  LotSize  BedRooms  SchoolAPI  ProxFwy  \\\n",
       "0       1       24      1757     6056         2        899        3   \n",
       "1       2       10      1563     6085         2        959        4   \n",
       "2       3       14      1344     6089         2        865        4   \n",
       "3       4       14      1215     6129         3        959        4   \n",
       "4       5       24      1866     6141         3        877        4   \n",
       "\n",
       "   CarGarage  ZipCode  HomePriceK  Price2019  \n",
       "0          3    94085         894     929.76  \n",
       "1          3    94085         861     895.44  \n",
       "2          3    94085         831     864.24  \n",
       "3          2    94085         809     841.36  \n",
       "4          1    94085         890     925.60  "
      ]
     },
     "execution_count": 8,
     "metadata": {},
     "output_type": "execute_result"
    }
   ],
   "source": [
    "prices_2019 = [(price * 1.04) for price in df[\"HomePriceK\"]]\n",
    "df[\"Price2019\"] = prices_2019\n",
    "#Check if it worked\n",
    "df.head()"
   ]
  },
  {
   "cell_type": "code",
   "execution_count": 9,
   "metadata": {},
   "outputs": [
    {
     "data": {
      "text/html": [
       "<div>\n",
       "<style scoped>\n",
       "    .dataframe tbody tr th:only-of-type {\n",
       "        vertical-align: middle;\n",
       "    }\n",
       "\n",
       "    .dataframe tbody tr th {\n",
       "        vertical-align: top;\n",
       "    }\n",
       "\n",
       "    .dataframe thead th {\n",
       "        text-align: right;\n",
       "    }\n",
       "</style>\n",
       "<table border=\"1\" class=\"dataframe\">\n",
       "  <thead>\n",
       "    <tr style=\"text-align: right;\">\n",
       "      <th></th>\n",
       "      <th>HomeID</th>\n",
       "      <th>HomeAge</th>\n",
       "      <th>HomeSqft</th>\n",
       "      <th>LotSize</th>\n",
       "      <th>BedRooms</th>\n",
       "      <th>SchoolAPI</th>\n",
       "      <th>ProxFwy</th>\n",
       "      <th>CarGarage</th>\n",
       "      <th>ZipCode</th>\n",
       "      <th>HomePriceK</th>\n",
       "      <th>Price2019</th>\n",
       "      <th>test</th>\n",
       "    </tr>\n",
       "  </thead>\n",
       "  <tbody>\n",
       "    <tr>\n",
       "      <th>0</th>\n",
       "      <td>1</td>\n",
       "      <td>24</td>\n",
       "      <td>1757</td>\n",
       "      <td>6056</td>\n",
       "      <td>2</td>\n",
       "      <td>899</td>\n",
       "      <td>3</td>\n",
       "      <td>3</td>\n",
       "      <td>94085</td>\n",
       "      <td>894</td>\n",
       "      <td>929.76</td>\n",
       "      <td>929.76</td>\n",
       "    </tr>\n",
       "    <tr>\n",
       "      <th>1</th>\n",
       "      <td>2</td>\n",
       "      <td>10</td>\n",
       "      <td>1563</td>\n",
       "      <td>6085</td>\n",
       "      <td>2</td>\n",
       "      <td>959</td>\n",
       "      <td>4</td>\n",
       "      <td>3</td>\n",
       "      <td>94085</td>\n",
       "      <td>861</td>\n",
       "      <td>895.44</td>\n",
       "      <td>895.44</td>\n",
       "    </tr>\n",
       "    <tr>\n",
       "      <th>2</th>\n",
       "      <td>3</td>\n",
       "      <td>14</td>\n",
       "      <td>1344</td>\n",
       "      <td>6089</td>\n",
       "      <td>2</td>\n",
       "      <td>865</td>\n",
       "      <td>4</td>\n",
       "      <td>3</td>\n",
       "      <td>94085</td>\n",
       "      <td>831</td>\n",
       "      <td>864.24</td>\n",
       "      <td>864.24</td>\n",
       "    </tr>\n",
       "    <tr>\n",
       "      <th>3</th>\n",
       "      <td>4</td>\n",
       "      <td>14</td>\n",
       "      <td>1215</td>\n",
       "      <td>6129</td>\n",
       "      <td>3</td>\n",
       "      <td>959</td>\n",
       "      <td>4</td>\n",
       "      <td>2</td>\n",
       "      <td>94085</td>\n",
       "      <td>809</td>\n",
       "      <td>841.36</td>\n",
       "      <td>841.36</td>\n",
       "    </tr>\n",
       "    <tr>\n",
       "      <th>4</th>\n",
       "      <td>5</td>\n",
       "      <td>24</td>\n",
       "      <td>1866</td>\n",
       "      <td>6141</td>\n",
       "      <td>3</td>\n",
       "      <td>877</td>\n",
       "      <td>4</td>\n",
       "      <td>1</td>\n",
       "      <td>94085</td>\n",
       "      <td>890</td>\n",
       "      <td>925.60</td>\n",
       "      <td>925.60</td>\n",
       "    </tr>\n",
       "  </tbody>\n",
       "</table>\n",
       "</div>"
      ],
      "text/plain": [
       "   HomeID  HomeAge  HomeSqft  LotSize  BedRooms  SchoolAPI  ProxFwy  \\\n",
       "0       1       24      1757     6056         2        899        3   \n",
       "1       2       10      1563     6085         2        959        4   \n",
       "2       3       14      1344     6089         2        865        4   \n",
       "3       4       14      1215     6129         3        959        4   \n",
       "4       5       24      1866     6141         3        877        4   \n",
       "\n",
       "   CarGarage  ZipCode  HomePriceK  Price2019    test  \n",
       "0          3    94085         894     929.76  929.76  \n",
       "1          3    94085         861     895.44  895.44  \n",
       "2          3    94085         831     864.24  864.24  \n",
       "3          2    94085         809     841.36  841.36  \n",
       "4          1    94085         890     925.60  925.60  "
      ]
     },
     "execution_count": 9,
     "metadata": {},
     "output_type": "execute_result"
    }
   ],
   "source": [
    "# DO THIS INSTEAD\n",
    "df[\"test\"] = df[\"HomePriceK\"] * 1.04\n",
    "df.head()"
   ]
  },
  {
   "cell_type": "markdown",
   "metadata": {},
   "source": [
    "## Drop Columns"
   ]
  },
  {
   "cell_type": "code",
   "execution_count": 10,
   "metadata": {},
   "outputs": [
    {
     "data": {
      "text/html": [
       "<div>\n",
       "<style scoped>\n",
       "    .dataframe tbody tr th:only-of-type {\n",
       "        vertical-align: middle;\n",
       "    }\n",
       "\n",
       "    .dataframe tbody tr th {\n",
       "        vertical-align: top;\n",
       "    }\n",
       "\n",
       "    .dataframe thead th {\n",
       "        text-align: right;\n",
       "    }\n",
       "</style>\n",
       "<table border=\"1\" class=\"dataframe\">\n",
       "  <thead>\n",
       "    <tr style=\"text-align: right;\">\n",
       "      <th></th>\n",
       "      <th>HomeID</th>\n",
       "      <th>HomeAge</th>\n",
       "      <th>HomeSqft</th>\n",
       "      <th>LotSize</th>\n",
       "      <th>BedRooms</th>\n",
       "      <th>SchoolAPI</th>\n",
       "      <th>ProxFwy</th>\n",
       "      <th>CarGarage</th>\n",
       "      <th>ZipCode</th>\n",
       "      <th>HomePriceK</th>\n",
       "      <th>Price2019</th>\n",
       "    </tr>\n",
       "  </thead>\n",
       "  <tbody>\n",
       "    <tr>\n",
       "      <th>0</th>\n",
       "      <td>1</td>\n",
       "      <td>24</td>\n",
       "      <td>1757</td>\n",
       "      <td>6056</td>\n",
       "      <td>2</td>\n",
       "      <td>899</td>\n",
       "      <td>3</td>\n",
       "      <td>3</td>\n",
       "      <td>94085</td>\n",
       "      <td>894</td>\n",
       "      <td>929.76</td>\n",
       "    </tr>\n",
       "    <tr>\n",
       "      <th>1</th>\n",
       "      <td>2</td>\n",
       "      <td>10</td>\n",
       "      <td>1563</td>\n",
       "      <td>6085</td>\n",
       "      <td>2</td>\n",
       "      <td>959</td>\n",
       "      <td>4</td>\n",
       "      <td>3</td>\n",
       "      <td>94085</td>\n",
       "      <td>861</td>\n",
       "      <td>895.44</td>\n",
       "    </tr>\n",
       "    <tr>\n",
       "      <th>2</th>\n",
       "      <td>3</td>\n",
       "      <td>14</td>\n",
       "      <td>1344</td>\n",
       "      <td>6089</td>\n",
       "      <td>2</td>\n",
       "      <td>865</td>\n",
       "      <td>4</td>\n",
       "      <td>3</td>\n",
       "      <td>94085</td>\n",
       "      <td>831</td>\n",
       "      <td>864.24</td>\n",
       "    </tr>\n",
       "    <tr>\n",
       "      <th>3</th>\n",
       "      <td>4</td>\n",
       "      <td>14</td>\n",
       "      <td>1215</td>\n",
       "      <td>6129</td>\n",
       "      <td>3</td>\n",
       "      <td>959</td>\n",
       "      <td>4</td>\n",
       "      <td>2</td>\n",
       "      <td>94085</td>\n",
       "      <td>809</td>\n",
       "      <td>841.36</td>\n",
       "    </tr>\n",
       "    <tr>\n",
       "      <th>4</th>\n",
       "      <td>5</td>\n",
       "      <td>24</td>\n",
       "      <td>1866</td>\n",
       "      <td>6141</td>\n",
       "      <td>3</td>\n",
       "      <td>877</td>\n",
       "      <td>4</td>\n",
       "      <td>1</td>\n",
       "      <td>94085</td>\n",
       "      <td>890</td>\n",
       "      <td>925.60</td>\n",
       "    </tr>\n",
       "  </tbody>\n",
       "</table>\n",
       "</div>"
      ],
      "text/plain": [
       "   HomeID  HomeAge  HomeSqft  LotSize  BedRooms  SchoolAPI  ProxFwy  \\\n",
       "0       1       24      1757     6056         2        899        3   \n",
       "1       2       10      1563     6085         2        959        4   \n",
       "2       3       14      1344     6089         2        865        4   \n",
       "3       4       14      1215     6129         3        959        4   \n",
       "4       5       24      1866     6141         3        877        4   \n",
       "\n",
       "   CarGarage  ZipCode  HomePriceK  Price2019  \n",
       "0          3    94085         894     929.76  \n",
       "1          3    94085         861     895.44  \n",
       "2          3    94085         831     864.24  \n",
       "3          2    94085         809     841.36  \n",
       "4          1    94085         890     925.60  "
      ]
     },
     "execution_count": 10,
     "metadata": {},
     "output_type": "execute_result"
    }
   ],
   "source": [
    "# CAN DO THIS TOO\n",
    "\n",
    "# df.drop() returns a new object with the requested axis/column/row index removed\n",
    "# hence need to assign it to original df if you want it as replacement\n",
    "\n",
    "df = df.drop(columns=[\"test\"])  \n",
    "df.head()"
   ]
  },
  {
   "cell_type": "code",
   "execution_count": 11,
   "metadata": {},
   "outputs": [
    {
     "data": {
      "text/html": [
       "<div>\n",
       "<style scoped>\n",
       "    .dataframe tbody tr th:only-of-type {\n",
       "        vertical-align: middle;\n",
       "    }\n",
       "\n",
       "    .dataframe tbody tr th {\n",
       "        vertical-align: top;\n",
       "    }\n",
       "\n",
       "    .dataframe thead th {\n",
       "        text-align: right;\n",
       "    }\n",
       "</style>\n",
       "<table border=\"1\" class=\"dataframe\">\n",
       "  <thead>\n",
       "    <tr style=\"text-align: right;\">\n",
       "      <th></th>\n",
       "      <th>HomeID</th>\n",
       "      <th>HomeAge</th>\n",
       "      <th>HomeSqft</th>\n",
       "      <th>LotSize</th>\n",
       "      <th>BedRooms</th>\n",
       "      <th>SchoolAPI</th>\n",
       "      <th>CarGarage</th>\n",
       "      <th>ZipCode</th>\n",
       "      <th>HomePriceK</th>\n",
       "      <th>Price2019</th>\n",
       "    </tr>\n",
       "  </thead>\n",
       "  <tbody>\n",
       "    <tr>\n",
       "      <th>0</th>\n",
       "      <td>1</td>\n",
       "      <td>24</td>\n",
       "      <td>1757</td>\n",
       "      <td>6056</td>\n",
       "      <td>2</td>\n",
       "      <td>899</td>\n",
       "      <td>3</td>\n",
       "      <td>94085</td>\n",
       "      <td>894</td>\n",
       "      <td>929.76</td>\n",
       "    </tr>\n",
       "    <tr>\n",
       "      <th>1</th>\n",
       "      <td>2</td>\n",
       "      <td>10</td>\n",
       "      <td>1563</td>\n",
       "      <td>6085</td>\n",
       "      <td>2</td>\n",
       "      <td>959</td>\n",
       "      <td>3</td>\n",
       "      <td>94085</td>\n",
       "      <td>861</td>\n",
       "      <td>895.44</td>\n",
       "    </tr>\n",
       "    <tr>\n",
       "      <th>2</th>\n",
       "      <td>3</td>\n",
       "      <td>14</td>\n",
       "      <td>1344</td>\n",
       "      <td>6089</td>\n",
       "      <td>2</td>\n",
       "      <td>865</td>\n",
       "      <td>3</td>\n",
       "      <td>94085</td>\n",
       "      <td>831</td>\n",
       "      <td>864.24</td>\n",
       "    </tr>\n",
       "    <tr>\n",
       "      <th>3</th>\n",
       "      <td>4</td>\n",
       "      <td>14</td>\n",
       "      <td>1215</td>\n",
       "      <td>6129</td>\n",
       "      <td>3</td>\n",
       "      <td>959</td>\n",
       "      <td>2</td>\n",
       "      <td>94085</td>\n",
       "      <td>809</td>\n",
       "      <td>841.36</td>\n",
       "    </tr>\n",
       "    <tr>\n",
       "      <th>4</th>\n",
       "      <td>5</td>\n",
       "      <td>24</td>\n",
       "      <td>1866</td>\n",
       "      <td>6141</td>\n",
       "      <td>3</td>\n",
       "      <td>877</td>\n",
       "      <td>1</td>\n",
       "      <td>94085</td>\n",
       "      <td>890</td>\n",
       "      <td>925.60</td>\n",
       "    </tr>\n",
       "  </tbody>\n",
       "</table>\n",
       "</div>"
      ],
      "text/plain": [
       "   HomeID  HomeAge  HomeSqft  LotSize  BedRooms  SchoolAPI  CarGarage  \\\n",
       "0       1       24      1757     6056         2        899          3   \n",
       "1       2       10      1563     6085         2        959          3   \n",
       "2       3       14      1344     6089         2        865          3   \n",
       "3       4       14      1215     6129         3        959          2   \n",
       "4       5       24      1866     6141         3        877          1   \n",
       "\n",
       "   ZipCode  HomePriceK  Price2019  \n",
       "0    94085         894     929.76  \n",
       "1    94085         861     895.44  \n",
       "2    94085         831     864.24  \n",
       "3    94085         809     841.36  \n",
       "4    94085         890     925.60  "
      ]
     },
     "execution_count": 11,
     "metadata": {},
     "output_type": "execute_result"
    }
   ],
   "source": [
    "df = df.drop(\"ProxFwy\", axis = 1)\n",
    "#Check if it dropped\n",
    "df.head()"
   ]
  },
  {
   "cell_type": "code",
   "execution_count": null,
   "metadata": {},
   "outputs": [],
   "source": []
  },
  {
   "cell_type": "code",
   "execution_count": 12,
   "metadata": {},
   "outputs": [
    {
     "data": {
      "text/plain": [
       "array([94085, 95051, 94087, 95014], dtype=int64)"
      ]
     },
     "execution_count": 12,
     "metadata": {},
     "output_type": "execute_result"
    }
   ],
   "source": [
    "df.ZipCode.unique()"
   ]
  },
  {
   "cell_type": "code",
   "execution_count": 13,
   "metadata": {},
   "outputs": [
    {
     "data": {
      "text/plain": [
       "array([3, 2, 1, 0], dtype=int64)"
      ]
     },
     "execution_count": 13,
     "metadata": {},
     "output_type": "execute_result"
    }
   ],
   "source": [
    "df[\"CarGarage\"].unique()"
   ]
  },
  {
   "cell_type": "markdown",
   "metadata": {},
   "source": [
    "# EXPLORATORY DATA ANALYSIS\n",
    "\n",
    "<h3>\"Exploratory data analysis or 'EDA' is a <b>critical</b> beginning step in analyzing the data from an experiment.</h3>\n",
    "\n",
    "<b>Here are the main reasons we use EDA:</b>\n",
    "<ul>\n",
    "• detection of mistakes<br><br>\n",
    "• checking of assumptions<br><br>\n",
    "• preliminary selection of appropriate models<br><br>\n",
    "• determining relationships among the explanatory variables, and<br><br>\n",
    "• assessing the direction and rough size of relationships between explanatory and outcome variables.\"</ul>\n"
   ]
  },
  {
   "cell_type": "markdown",
   "metadata": {},
   "source": [
    "## Now what?\n",
    "\n",
    "We have cleaned our data to the best of our ability based on the initial look. Now let's try to look at the <b>relationships</b> between different values. "
   ]
  },
  {
   "cell_type": "code",
   "execution_count": 14,
   "metadata": {},
   "outputs": [
    {
     "data": {
      "text/html": [
       "<div>\n",
       "<style scoped>\n",
       "    .dataframe tbody tr th:only-of-type {\n",
       "        vertical-align: middle;\n",
       "    }\n",
       "\n",
       "    .dataframe tbody tr th {\n",
       "        vertical-align: top;\n",
       "    }\n",
       "\n",
       "    .dataframe thead th {\n",
       "        text-align: right;\n",
       "    }\n",
       "</style>\n",
       "<table border=\"1\" class=\"dataframe\">\n",
       "  <thead>\n",
       "    <tr style=\"text-align: right;\">\n",
       "      <th></th>\n",
       "      <th>HomeID</th>\n",
       "      <th>HomeAge</th>\n",
       "      <th>HomeSqft</th>\n",
       "      <th>LotSize</th>\n",
       "      <th>BedRooms</th>\n",
       "      <th>SchoolAPI</th>\n",
       "      <th>CarGarage</th>\n",
       "      <th>ZipCode</th>\n",
       "      <th>HomePriceK</th>\n",
       "      <th>Price2019</th>\n",
       "    </tr>\n",
       "  </thead>\n",
       "  <tbody>\n",
       "    <tr>\n",
       "      <th>0</th>\n",
       "      <td>1</td>\n",
       "      <td>24</td>\n",
       "      <td>1757</td>\n",
       "      <td>6056</td>\n",
       "      <td>2</td>\n",
       "      <td>899</td>\n",
       "      <td>3</td>\n",
       "      <td>94085</td>\n",
       "      <td>894</td>\n",
       "      <td>929.76</td>\n",
       "    </tr>\n",
       "    <tr>\n",
       "      <th>1</th>\n",
       "      <td>2</td>\n",
       "      <td>10</td>\n",
       "      <td>1563</td>\n",
       "      <td>6085</td>\n",
       "      <td>2</td>\n",
       "      <td>959</td>\n",
       "      <td>3</td>\n",
       "      <td>94085</td>\n",
       "      <td>861</td>\n",
       "      <td>895.44</td>\n",
       "    </tr>\n",
       "    <tr>\n",
       "      <th>2</th>\n",
       "      <td>3</td>\n",
       "      <td>14</td>\n",
       "      <td>1344</td>\n",
       "      <td>6089</td>\n",
       "      <td>2</td>\n",
       "      <td>865</td>\n",
       "      <td>3</td>\n",
       "      <td>94085</td>\n",
       "      <td>831</td>\n",
       "      <td>864.24</td>\n",
       "    </tr>\n",
       "    <tr>\n",
       "      <th>3</th>\n",
       "      <td>4</td>\n",
       "      <td>14</td>\n",
       "      <td>1215</td>\n",
       "      <td>6129</td>\n",
       "      <td>3</td>\n",
       "      <td>959</td>\n",
       "      <td>2</td>\n",
       "      <td>94085</td>\n",
       "      <td>809</td>\n",
       "      <td>841.36</td>\n",
       "    </tr>\n",
       "    <tr>\n",
       "      <th>4</th>\n",
       "      <td>5</td>\n",
       "      <td>24</td>\n",
       "      <td>1866</td>\n",
       "      <td>6141</td>\n",
       "      <td>3</td>\n",
       "      <td>877</td>\n",
       "      <td>1</td>\n",
       "      <td>94085</td>\n",
       "      <td>890</td>\n",
       "      <td>925.60</td>\n",
       "    </tr>\n",
       "  </tbody>\n",
       "</table>\n",
       "</div>"
      ],
      "text/plain": [
       "   HomeID  HomeAge  HomeSqft  LotSize  BedRooms  SchoolAPI  CarGarage  \\\n",
       "0       1       24      1757     6056         2        899          3   \n",
       "1       2       10      1563     6085         2        959          3   \n",
       "2       3       14      1344     6089         2        865          3   \n",
       "3       4       14      1215     6129         3        959          2   \n",
       "4       5       24      1866     6141         3        877          1   \n",
       "\n",
       "   ZipCode  HomePriceK  Price2019  \n",
       "0    94085         894     929.76  \n",
       "1    94085         861     895.44  \n",
       "2    94085         831     864.24  \n",
       "3    94085         809     841.36  \n",
       "4    94085         890     925.60  "
      ]
     },
     "execution_count": 14,
     "metadata": {},
     "output_type": "execute_result"
    }
   ],
   "source": [
    "df.head()"
   ]
  },
  {
   "cell_type": "markdown",
   "metadata": {},
   "source": [
    "Let's look at the different types of offenses that were called in. We know that using the .unique() function will return all the unique values in the column, but what if we wanted to also <b>count</b> the different times each unique value appeared?"
   ]
  },
  {
   "cell_type": "code",
   "execution_count": 15,
   "metadata": {},
   "outputs": [
    {
     "data": {
      "text/plain": [
       "95051    25\n",
       "95014    25\n",
       "94087    25\n",
       "94085    25\n",
       "Name: ZipCode, dtype: int64"
      ]
     },
     "execution_count": 15,
     "metadata": {},
     "output_type": "execute_result"
    }
   ],
   "source": [
    "df.ZipCode.value_counts()"
   ]
  },
  {
   "cell_type": "code",
   "execution_count": 16,
   "metadata": {},
   "outputs": [
    {
     "data": {
      "text/plain": [
       "3    32\n",
       "0    31\n",
       "2    19\n",
       "1    18\n",
       "Name: CarGarage, dtype: int64"
      ]
     },
     "execution_count": 16,
     "metadata": {},
     "output_type": "execute_result"
    }
   ],
   "source": [
    "df.CarGarage.value_counts()"
   ]
  },
  {
   "cell_type": "markdown",
   "metadata": {},
   "source": [
    "Why is \"LARCENY\" a higher occurence in the \"EVENTDESC\" column, if when we looked into the \"OFFENSE\" column, \"BURGLARY - VEHICLE\" is first? Let's look into this a little more.\n",
    "\n",
    "\n",
    "## GroupBy "
   ]
  },
  {
   "cell_type": "code",
   "execution_count": 17,
   "metadata": {},
   "outputs": [
    {
     "name": "stdout",
     "output_type": "stream",
     "text": [
      "                   CarGarage\n",
      "ZipCode CarGarage           \n",
      "94085   3                  8\n",
      "        1                  7\n",
      "        2                  6\n",
      "        0                  4\n",
      "94087   0                  9\n",
      "        1                  7\n",
      "        3                  5\n",
      "        2                  4\n",
      "95014   3                 11\n",
      "        0                  9\n",
      "        2                  3\n",
      "        1                  2\n",
      "95051   0                  9\n",
      "        3                  8\n",
      "        2                  6\n",
      "        1                  2\n"
     ]
    }
   ],
   "source": [
    "df1 = df.groupby(\"ZipCode\").CarGarage.value_counts().to_frame()\n",
    "print(df1)"
   ]
  },
  {
   "cell_type": "code",
   "execution_count": 18,
   "metadata": {},
   "outputs": [
    {
     "name": "stdout",
     "output_type": "stream",
     "text": [
      "ZipCode  CarGarage\n",
      "94085    3             8\n",
      "         1             7\n",
      "         2             6\n",
      "         0             4\n",
      "94087    0             9\n",
      "         1             7\n",
      "         3             5\n",
      "         2             4\n",
      "95014    3            11\n",
      "         0             9\n",
      "         2             3\n",
      "         1             2\n",
      "95051    0             9\n",
      "         3             8\n",
      "         2             6\n",
      "         1             2\n",
      "Name: CarGarage, dtype: int64\n",
      "['CarGarage']\n",
      "[8, 7, 6, 4, 9, 7, 5, 4, 11, 9, 3, 2, 9, 8, 6, 2]\n",
      "[ 8  7  6  4  9  7  5  4 11  9  3  2  9  8  6  2]\n",
      "{(94085, 3): 8, (94085, 1): 7, (94085, 2): 6, (94085, 0): 4, (94087, 0): 9, (94087, 1): 7, (94087, 3): 5, (94087, 2): 4, (95014, 3): 11, (95014, 0): 9, (95014, 2): 3, (95014, 1): 2, (95051, 0): 9, (95051, 3): 8, (95051, 2): 6, (95051, 1): 2}\n"
     ]
    }
   ],
   "source": [
    "df2 = df.groupby(\"ZipCode\").CarGarage.value_counts()\n",
    "print(df2)\n",
    "print(list(df1))   # if a to_frame() was used, return a list of the value column label \n",
    "print(list(df2))   # return list of the values (last column) of groupby\n",
    "\n",
    "import numpy as np\n",
    "print(np.array(df2))  # similar result as list(), return numpy array of the values (last column) of groupby\n",
    "\n",
    "## convert the groupby results, including the group row labels, in dictionary form with tuples of groupby keys as key\n",
    "print(df2.to_dict()) \n"
   ]
  },
  {
   "cell_type": "code",
   "execution_count": 19,
   "metadata": {},
   "outputs": [
    {
     "name": "stdout",
     "output_type": "stream",
     "text": [
      "ZipCode\n",
      "94085    907.00\n",
      "94087    899.24\n",
      "95014    894.80\n",
      "95051    916.68\n",
      "Name: SchoolAPI, dtype: float64\n"
     ]
    },
    {
     "data": {
      "text/plain": [
       "{94085: 907.0, 94087: 899.24, 95014: 894.8, 95051: 916.68}"
      ]
     },
     "execution_count": 19,
     "metadata": {},
     "output_type": "execute_result"
    }
   ],
   "source": [
    "df3 = df.groupby(\"ZipCode\").SchoolAPI.mean()\n",
    "print(df3)\n",
    "df3.to_dict()"
   ]
  },
  {
   "cell_type": "markdown",
   "metadata": {},
   "source": [
    "## More about GROUP BY\n",
    "\"This grouped variable is now a GroupBy object. It has not actually computed anything yet except for some intermediate data about the group key df['key1']. The idea is that this object has all of the information needed to then apply some operation to each of the groups.\" - Python for Data Analysis"
   ]
  },
  {
   "cell_type": "code",
   "execution_count": 20,
   "metadata": {},
   "outputs": [
    {
     "data": {
      "text/plain": [
       "<pandas.core.groupby.groupby.DataFrameGroupBy object at 0x00000255FF17E7F0>"
      ]
     },
     "execution_count": 20,
     "metadata": {},
     "output_type": "execute_result"
    }
   ],
   "source": [
    "#Use list() to show what a grouping looks like\n",
    "\n",
    "df.groupby(\"ZipCode\")"
   ]
  },
  {
   "cell_type": "markdown",
   "metadata": {},
   "source": [
    "Descriptive statistics by group"
   ]
  },
  {
   "cell_type": "code",
   "execution_count": 21,
   "metadata": {},
   "outputs": [
    {
     "data": {
      "text/plain": [
       "{94085: Int64Index([ 0,  1,  2,  3,  4,  5,  6,  7,  8,  9, 10, 11, 12, 13, 14, 16, 17,\n",
       "             19, 20, 21, 22, 24, 25, 26, 28],\n",
       "            dtype='int64'),\n",
       " 94087: Int64Index([40, 41, 45, 47, 48, 53, 55, 56, 57, 59, 60, 61, 62, 63, 64, 66, 67,\n",
       "             68, 69, 71, 74, 75, 77, 78, 79],\n",
       "            dtype='int64'),\n",
       " 95014: Int64Index([65, 70, 72, 73, 76, 80, 81, 82, 83, 84, 85, 86, 87, 88, 89, 90, 91,\n",
       "             92, 93, 94, 95, 96, 97, 98, 99],\n",
       "            dtype='int64'),\n",
       " 95051: Int64Index([15, 18, 23, 27, 29, 30, 31, 32, 33, 34, 35, 36, 37, 38, 39, 42, 43,\n",
       "             44, 46, 49, 50, 51, 52, 54, 58],\n",
       "            dtype='int64')}"
      ]
     },
     "execution_count": 21,
     "metadata": {},
     "output_type": "execute_result"
    }
   ],
   "source": [
    "#returns a dict of your groups\n",
    "df.groupby(\"ZipCode\").groups"
   ]
  },
  {
   "cell_type": "code",
   "execution_count": 22,
   "metadata": {},
   "outputs": [
    {
     "data": {
      "text/html": [
       "<div>\n",
       "<style scoped>\n",
       "    .dataframe tbody tr th:only-of-type {\n",
       "        vertical-align: middle;\n",
       "    }\n",
       "\n",
       "    .dataframe tbody tr th {\n",
       "        vertical-align: top;\n",
       "    }\n",
       "\n",
       "    .dataframe thead th {\n",
       "        text-align: right;\n",
       "    }\n",
       "</style>\n",
       "<table border=\"1\" class=\"dataframe\">\n",
       "  <thead>\n",
       "    <tr style=\"text-align: right;\">\n",
       "      <th></th>\n",
       "      <th>count</th>\n",
       "      <th>mean</th>\n",
       "      <th>std</th>\n",
       "      <th>min</th>\n",
       "      <th>25%</th>\n",
       "      <th>50%</th>\n",
       "      <th>75%</th>\n",
       "      <th>max</th>\n",
       "    </tr>\n",
       "    <tr>\n",
       "      <th>ZipCode</th>\n",
       "      <th></th>\n",
       "      <th></th>\n",
       "      <th></th>\n",
       "      <th></th>\n",
       "      <th></th>\n",
       "      <th></th>\n",
       "      <th></th>\n",
       "      <th></th>\n",
       "    </tr>\n",
       "  </thead>\n",
       "  <tbody>\n",
       "    <tr>\n",
       "      <th>94085</th>\n",
       "      <td>25.0</td>\n",
       "      <td>6531.48</td>\n",
       "      <td>366.680279</td>\n",
       "      <td>6056.0</td>\n",
       "      <td>6183.0</td>\n",
       "      <td>6514.0</td>\n",
       "      <td>6870.0</td>\n",
       "      <td>7098.0</td>\n",
       "    </tr>\n",
       "    <tr>\n",
       "      <th>94087</th>\n",
       "      <td>25.0</td>\n",
       "      <td>8279.68</td>\n",
       "      <td>467.047439</td>\n",
       "      <td>7426.0</td>\n",
       "      <td>7958.0</td>\n",
       "      <td>8348.0</td>\n",
       "      <td>8585.0</td>\n",
       "      <td>8974.0</td>\n",
       "    </tr>\n",
       "    <tr>\n",
       "      <th>95014</th>\n",
       "      <td>25.0</td>\n",
       "      <td>9145.28</td>\n",
       "      <td>275.174266</td>\n",
       "      <td>8446.0</td>\n",
       "      <td>9095.0</td>\n",
       "      <td>9211.0</td>\n",
       "      <td>9337.0</td>\n",
       "      <td>9476.0</td>\n",
       "    </tr>\n",
       "    <tr>\n",
       "      <th>95051</th>\n",
       "      <td>25.0</td>\n",
       "      <td>7405.56</td>\n",
       "      <td>359.942134</td>\n",
       "      <td>6680.0</td>\n",
       "      <td>7181.0</td>\n",
       "      <td>7339.0</td>\n",
       "      <td>7693.0</td>\n",
       "      <td>8096.0</td>\n",
       "    </tr>\n",
       "  </tbody>\n",
       "</table>\n",
       "</div>"
      ],
      "text/plain": [
       "         count     mean         std     min     25%     50%     75%     max\n",
       "ZipCode                                                                    \n",
       "94085     25.0  6531.48  366.680279  6056.0  6183.0  6514.0  6870.0  7098.0\n",
       "94087     25.0  8279.68  467.047439  7426.0  7958.0  8348.0  8585.0  8974.0\n",
       "95014     25.0  9145.28  275.174266  8446.0  9095.0  9211.0  9337.0  9476.0\n",
       "95051     25.0  7405.56  359.942134  6680.0  7181.0  7339.0  7693.0  8096.0"
      ]
     },
     "execution_count": 22,
     "metadata": {},
     "output_type": "execute_result"
    }
   ],
   "source": [
    "df.groupby(\"ZipCode\").LotSize.describe()"
   ]
  },
  {
   "cell_type": "code",
   "execution_count": 23,
   "metadata": {},
   "outputs": [
    {
     "data": {
      "text/html": [
       "<div>\n",
       "<style scoped>\n",
       "    .dataframe tbody tr th:only-of-type {\n",
       "        vertical-align: middle;\n",
       "    }\n",
       "\n",
       "    .dataframe tbody tr th {\n",
       "        vertical-align: top;\n",
       "    }\n",
       "\n",
       "    .dataframe thead th {\n",
       "        text-align: right;\n",
       "    }\n",
       "</style>\n",
       "<table border=\"1\" class=\"dataframe\">\n",
       "  <thead>\n",
       "    <tr style=\"text-align: right;\">\n",
       "      <th></th>\n",
       "      <th>count</th>\n",
       "      <th>mean</th>\n",
       "      <th>std</th>\n",
       "      <th>min</th>\n",
       "      <th>25%</th>\n",
       "      <th>50%</th>\n",
       "      <th>75%</th>\n",
       "      <th>max</th>\n",
       "    </tr>\n",
       "    <tr>\n",
       "      <th>ZipCode</th>\n",
       "      <th></th>\n",
       "      <th></th>\n",
       "      <th></th>\n",
       "      <th></th>\n",
       "      <th></th>\n",
       "      <th></th>\n",
       "      <th></th>\n",
       "      <th></th>\n",
       "    </tr>\n",
       "  </thead>\n",
       "  <tbody>\n",
       "    <tr>\n",
       "      <th>94085</th>\n",
       "      <td>25.0</td>\n",
       "      <td>907.00</td>\n",
       "      <td>38.223030</td>\n",
       "      <td>851.0</td>\n",
       "      <td>877.0</td>\n",
       "      <td>904.0</td>\n",
       "      <td>935.0</td>\n",
       "      <td>966.0</td>\n",
       "    </tr>\n",
       "    <tr>\n",
       "      <th>94087</th>\n",
       "      <td>25.0</td>\n",
       "      <td>899.24</td>\n",
       "      <td>33.121343</td>\n",
       "      <td>850.0</td>\n",
       "      <td>876.0</td>\n",
       "      <td>890.0</td>\n",
       "      <td>927.0</td>\n",
       "      <td>962.0</td>\n",
       "    </tr>\n",
       "    <tr>\n",
       "      <th>95014</th>\n",
       "      <td>25.0</td>\n",
       "      <td>894.80</td>\n",
       "      <td>32.430695</td>\n",
       "      <td>850.0</td>\n",
       "      <td>862.0</td>\n",
       "      <td>889.0</td>\n",
       "      <td>924.0</td>\n",
       "      <td>942.0</td>\n",
       "    </tr>\n",
       "    <tr>\n",
       "      <th>95051</th>\n",
       "      <td>25.0</td>\n",
       "      <td>916.68</td>\n",
       "      <td>39.359158</td>\n",
       "      <td>853.0</td>\n",
       "      <td>891.0</td>\n",
       "      <td>918.0</td>\n",
       "      <td>949.0</td>\n",
       "      <td>975.0</td>\n",
       "    </tr>\n",
       "  </tbody>\n",
       "</table>\n",
       "</div>"
      ],
      "text/plain": [
       "         count    mean        std    min    25%    50%    75%    max\n",
       "ZipCode                                                             \n",
       "94085     25.0  907.00  38.223030  851.0  877.0  904.0  935.0  966.0\n",
       "94087     25.0  899.24  33.121343  850.0  876.0  890.0  927.0  962.0\n",
       "95014     25.0  894.80  32.430695  850.0  862.0  889.0  924.0  942.0\n",
       "95051     25.0  916.68  39.359158  853.0  891.0  918.0  949.0  975.0"
      ]
     },
     "execution_count": 23,
     "metadata": {},
     "output_type": "execute_result"
    }
   ],
   "source": [
    "df.groupby(\"ZipCode\").SchoolAPI.describe()"
   ]
  },
  {
   "cell_type": "markdown",
   "metadata": {},
   "source": [
    "### Get Columns + Index"
   ]
  },
  {
   "cell_type": "code",
   "execution_count": 24,
   "metadata": {},
   "outputs": [
    {
     "data": {
      "text/plain": [
       "Index(['HomeID', 'HomeAge', 'HomeSqft', 'LotSize', 'BedRooms', 'SchoolAPI',\n",
       "       'CarGarage', 'ZipCode', 'HomePriceK', 'Price2019'],\n",
       "      dtype='object')"
      ]
     },
     "execution_count": 24,
     "metadata": {},
     "output_type": "execute_result"
    }
   ],
   "source": [
    "df.columns"
   ]
  },
  {
   "cell_type": "code",
   "execution_count": 25,
   "metadata": {},
   "outputs": [
    {
     "data": {
      "text/plain": [
       "['HomeID',\n",
       " 'HomeAge',\n",
       " 'HomeSqft',\n",
       " 'LotSize',\n",
       " 'BedRooms',\n",
       " 'SchoolAPI',\n",
       " 'CarGarage',\n",
       " 'ZipCode',\n",
       " 'HomePriceK',\n",
       " 'Price2019']"
      ]
     },
     "execution_count": 25,
     "metadata": {},
     "output_type": "execute_result"
    }
   ],
   "source": [
    "list(df.columns)"
   ]
  },
  {
   "cell_type": "markdown",
   "metadata": {},
   "source": [
    "# <font color = \"red\">Pandas HW 1</font>\n",
    "\n",
    "Could there be any relationship between \"Price per lot size Sqft\" and \"Price per home Sqft\"? What can be the takeaway message from the data we have? Try out different functions to see if there is any significance?"
   ]
  },
  {
   "cell_type": "code",
   "execution_count": 26,
   "metadata": {},
   "outputs": [
    {
     "name": "stdout",
     "output_type": "stream",
     "text": [
      "35.086812367607855 2.404337890258623e-08\n",
      "statistically normal\n"
     ]
    }
   ],
   "source": [
    "# first check if home price is even normally distributed, by checking histogram and scipy.stats.normaltest\n",
    "\n",
    "home_price_hist = df.HomePriceK.hist(bins=10)  # default is 10 bins\n",
    "\n",
    "from scipy import stats\n",
    "s,p = stats.normaltest(df.HomePriceK)\n",
    "print(s,p)\n",
    "if p <= 0.05:\n",
    "    print('statistically normal')\n",
    "else:\n",
    "    print('use parametric stats')\n"
   ]
  },
  {
   "cell_type": "code",
   "execution_count": 27,
   "metadata": {},
   "outputs": [
    {
     "data": {
      "text/plain": [
       "-0.08419664650816104"
      ]
     },
     "execution_count": 27,
     "metadata": {},
     "output_type": "execute_result"
    }
   ],
   "source": [
    "# Quick check\n",
    "# HomeSqft and LotSize aren't correlated, which makes it unlikely that they'd be correlated when divided by HomePriceK \n",
    "\n",
    "lot_home_corr = df['HomeSqft'].corr(df['LotSize'])\n",
    "lot_home_corr"
   ]
  },
  {
   "cell_type": "code",
   "execution_count": 28,
   "metadata": {},
   "outputs": [
    {
     "data": {
      "text/html": [
       "<div>\n",
       "<style scoped>\n",
       "    .dataframe tbody tr th:only-of-type {\n",
       "        vertical-align: middle;\n",
       "    }\n",
       "\n",
       "    .dataframe tbody tr th {\n",
       "        vertical-align: top;\n",
       "    }\n",
       "\n",
       "    .dataframe thead th {\n",
       "        text-align: right;\n",
       "    }\n",
       "</style>\n",
       "<table border=\"1\" class=\"dataframe\">\n",
       "  <thead>\n",
       "    <tr style=\"text-align: right;\">\n",
       "      <th></th>\n",
       "      <th>HomeID</th>\n",
       "      <th>HomeAge</th>\n",
       "      <th>HomeSqft</th>\n",
       "      <th>LotSize</th>\n",
       "      <th>BedRooms</th>\n",
       "      <th>SchoolAPI</th>\n",
       "      <th>CarGarage</th>\n",
       "      <th>ZipCode</th>\n",
       "      <th>HomePriceK</th>\n",
       "      <th>Price2019</th>\n",
       "      <th>PricePerHomeSqft</th>\n",
       "      <th>PricePerLotSize</th>\n",
       "    </tr>\n",
       "  </thead>\n",
       "  <tbody>\n",
       "    <tr>\n",
       "      <th>0</th>\n",
       "      <td>1</td>\n",
       "      <td>24</td>\n",
       "      <td>1757</td>\n",
       "      <td>6056</td>\n",
       "      <td>2</td>\n",
       "      <td>899</td>\n",
       "      <td>3</td>\n",
       "      <td>94085</td>\n",
       "      <td>894</td>\n",
       "      <td>929.76</td>\n",
       "      <td>0.508822</td>\n",
       "      <td>0.147622</td>\n",
       "    </tr>\n",
       "    <tr>\n",
       "      <th>1</th>\n",
       "      <td>2</td>\n",
       "      <td>10</td>\n",
       "      <td>1563</td>\n",
       "      <td>6085</td>\n",
       "      <td>2</td>\n",
       "      <td>959</td>\n",
       "      <td>3</td>\n",
       "      <td>94085</td>\n",
       "      <td>861</td>\n",
       "      <td>895.44</td>\n",
       "      <td>0.550864</td>\n",
       "      <td>0.141495</td>\n",
       "    </tr>\n",
       "    <tr>\n",
       "      <th>2</th>\n",
       "      <td>3</td>\n",
       "      <td>14</td>\n",
       "      <td>1344</td>\n",
       "      <td>6089</td>\n",
       "      <td>2</td>\n",
       "      <td>865</td>\n",
       "      <td>3</td>\n",
       "      <td>94085</td>\n",
       "      <td>831</td>\n",
       "      <td>864.24</td>\n",
       "      <td>0.618304</td>\n",
       "      <td>0.136476</td>\n",
       "    </tr>\n",
       "    <tr>\n",
       "      <th>3</th>\n",
       "      <td>4</td>\n",
       "      <td>14</td>\n",
       "      <td>1215</td>\n",
       "      <td>6129</td>\n",
       "      <td>3</td>\n",
       "      <td>959</td>\n",
       "      <td>2</td>\n",
       "      <td>94085</td>\n",
       "      <td>809</td>\n",
       "      <td>841.36</td>\n",
       "      <td>0.665844</td>\n",
       "      <td>0.131995</td>\n",
       "    </tr>\n",
       "    <tr>\n",
       "      <th>4</th>\n",
       "      <td>5</td>\n",
       "      <td>24</td>\n",
       "      <td>1866</td>\n",
       "      <td>6141</td>\n",
       "      <td>3</td>\n",
       "      <td>877</td>\n",
       "      <td>1</td>\n",
       "      <td>94085</td>\n",
       "      <td>890</td>\n",
       "      <td>925.60</td>\n",
       "      <td>0.476956</td>\n",
       "      <td>0.144928</td>\n",
       "    </tr>\n",
       "  </tbody>\n",
       "</table>\n",
       "</div>"
      ],
      "text/plain": [
       "   HomeID  HomeAge  HomeSqft  LotSize  BedRooms  SchoolAPI  CarGarage  \\\n",
       "0       1       24      1757     6056         2        899          3   \n",
       "1       2       10      1563     6085         2        959          3   \n",
       "2       3       14      1344     6089         2        865          3   \n",
       "3       4       14      1215     6129         3        959          2   \n",
       "4       5       24      1866     6141         3        877          1   \n",
       "\n",
       "   ZipCode  HomePriceK  Price2019  PricePerHomeSqft  PricePerLotSize  \n",
       "0    94085         894     929.76          0.508822         0.147622  \n",
       "1    94085         861     895.44          0.550864         0.141495  \n",
       "2    94085         831     864.24          0.618304         0.136476  \n",
       "3    94085         809     841.36          0.665844         0.131995  \n",
       "4    94085         890     925.60          0.476956         0.144928  "
      ]
     },
     "execution_count": 28,
     "metadata": {},
     "output_type": "execute_result"
    }
   ],
   "source": [
    "df['PricePerHomeSqft'] = df['HomePriceK']/df['HomeSqft']\n",
    "df['PricePerLotSize'] = df['HomePriceK']/df['LotSize']\n",
    "df.head()"
   ]
  },
  {
   "cell_type": "code",
   "execution_count": 29,
   "metadata": {},
   "outputs": [
    {
     "data": {
      "text/plain": [
       "0.04146735390764224"
      ]
     },
     "execution_count": 29,
     "metadata": {},
     "output_type": "execute_result"
    }
   ],
   "source": [
    "# Correlation test and Scatter plot both show that\n",
    "# Price per HomeSqft and Price per Lot Size are not correlated\n",
    "\n",
    "price_per_lot_home_corr = df['PricePerHomeSqft'].corr(df['PricePerLotSize'])\n",
    "price_per_lot_home_corr"
   ]
  },
  {
   "cell_type": "code",
   "execution_count": 30,
   "metadata": {},
   "outputs": [
    {
     "data": {
      "text/plain": [
       "<matplotlib.axes._subplots.AxesSubplot at 0x25580f1ac88>"
      ]
     },
     "execution_count": 30,
     "metadata": {},
     "output_type": "execute_result"
    },
    {
     "data": {
      "image/png": "[encoded data removed]",
      "text/plain": [
       "<Figure size 432x288 with 1 Axes>"
      ]
     },
     "metadata": {},
     "output_type": "display_data"
    }
   ],
   "source": [
    "df.plot(x=['PricePerHomeSqft'], y=['PricePerLotSize'], kind='scatter')"
   ]
  },
  {
   "cell_type": "code",
   "execution_count": 31,
   "metadata": {},
   "outputs": [
    {
     "name": "stdout",
     "output_type": "stream",
     "text": [
      "         PricePerHomeSqft  PricePerLotSize\n",
      "ZipCode                                   \n",
      "94085            0.558015         0.135870\n",
      "94087            0.746145         0.139383\n",
      "95014            0.800944         0.138195\n",
      "95051            0.630494         0.138239\n",
      "                          PricePerHomeSqft  PricePerLotSize\n",
      "ZipCode                                                    \n",
      "94085   PricePerHomeSqft          1.000000        -0.101372\n",
      "        PricePerLotSize          -0.101372         1.000000\n",
      "94087   PricePerHomeSqft          1.000000        -0.221623\n",
      "        PricePerLotSize          -0.221623         1.000000\n",
      "95014   PricePerHomeSqft          1.000000         0.059106\n",
      "        PricePerLotSize           0.059106         1.000000\n",
      "95051   PricePerHomeSqft          1.000000        -0.216375\n",
      "        PricePerLotSize          -0.216375         1.000000\n",
      "                          PricePerLotSize\n",
      "ZipCode                                  \n",
      "94085   PricePerHomeSqft        -0.101372\n",
      "94087   PricePerHomeSqft        -0.221623\n",
      "95014   PricePerHomeSqft         0.059106\n",
      "95051   PricePerHomeSqft        -0.216375\n"
     ]
    }
   ],
   "source": [
    "# See if there's any correlation between these two pricing measures when broken down by ZipCode\n",
    "\n",
    "# averages by ZipCode\n",
    "avg_home_lot_price_by_zip = df.groupby(\"ZipCode\")['PricePerHomeSqft','PricePerLotSize'].mean()\n",
    "print(avg_home_lot_price_by_zip)\n",
    "\n",
    "# get correlation matrix by ZipCode\n",
    "corr_by_zip = df.groupby(\"ZipCode\")['PricePerHomeSqft','PricePerLotSize'].corr()\n",
    "print(corr_by_zip)\n",
    "\n",
    "# get every other row of the value column of 'PricePerLotSize'\n",
    "print(corr_by_zip.iloc[0::2][['PricePerLotSize']])  \n"
   ]
  },
  {
   "cell_type": "code",
   "execution_count": 32,
   "metadata": {},
   "outputs": [],
   "source": [
    "# Conclusion: No significant relationship between PricePerHomeSqft and PricePerLotSize, as a whole and by ZipCode\n"
   ]
  },
  {
   "cell_type": "markdown",
   "metadata": {},
   "source": [
    "# <font color = \"red\">Pandas HW 2</font>"
   ]
  },
  {
   "cell_type": "markdown",
   "metadata": {},
   "source": [
    "What other data column for the zip codes could make the analysis more precise?\n",
    "\n",
    "Median houshold income, population, population density??? Inlude one or more new data columns and re-visit your conclusions from HW 1.\n",
    "\n",
    "Are these home prices driven by factors for which we have the data?"
   ]
  },
  {
   "cell_type": "code",
   "execution_count": 33,
   "metadata": {},
   "outputs": [
    {
     "data": {
      "text/plain": [
       "HomeID              0.965751\n",
       "HomeAge             0.154894\n",
       "HomeSqft           -0.051960\n",
       "LotSize             0.962220\n",
       "BedRooms            0.510955\n",
       "SchoolAPI          -0.141095\n",
       "CarGarage          -0.055459\n",
       "ZipCode             0.411804\n",
       "HomePriceK          1.000000\n",
       "Price2019           1.000000\n",
       "PricePerHomeSqft    0.692025\n",
       "PricePerLotSize     0.201680\n",
       "Name: HomePriceK, dtype: float64"
      ]
     },
     "execution_count": 33,
     "metadata": {},
     "output_type": "execute_result"
    }
   ],
   "source": [
    "# Correlation Matrix of all the columns, and see r values for HomePriceK\n",
    "\n",
    "df_corr = df.corr()['HomePriceK']\n",
    "df_corr"
   ]
  },
  {
   "cell_type": "code",
   "execution_count": 34,
   "metadata": {},
   "outputs": [
    {
     "name": "stdout",
     "output_type": "stream",
     "text": [
      "(0.9657511547162219, 3.1665777129540363e-59)\n",
      "(0.9622202634448582, 3.563895725710586e-57)\n"
     ]
    }
   ],
   "source": [
    "# Check for statistical significance of the correlation by stats.pearsonr\n",
    "\n",
    "import scipy.stats as stats\n",
    "\n",
    "print(stats.pearsonr(df['HomeID'], df['HomePriceK']))\n",
    "print(stats.pearsonr(df['LotSize'], df['HomePriceK']))"
   ]
  },
  {
   "cell_type": "code",
   "execution_count": 35,
   "metadata": {},
   "outputs": [
    {
     "name": "stdout",
     "output_type": "stream",
     "text": [
      "         count     mean        std     min     25%     50%     75%     max\n",
      "ZipCode                                                                   \n",
      "94085     25.0   885.96  34.408671   809.0   865.0   894.0   912.0   934.0\n",
      "94087     25.0  1151.48  28.133788  1103.0  1128.0  1150.0  1179.0  1190.0\n",
      "95014     25.0  1263.32  38.518091  1194.0  1240.0  1269.0  1288.0  1336.0\n",
      "95051     25.0  1023.20  46.984927   942.0   991.0  1030.0  1068.0  1097.0\n",
      "468.17105566562 3.7316344125471356e-57\n"
     ]
    }
   ],
   "source": [
    "# Stat summary of HomePriceK by ZipCode shows that the ZipCodes have totally non-overlapping ranges for HomePriceK\n",
    "print(df.groupby(\"ZipCode\")['HomePriceK'].describe())\n",
    "\n",
    "# HomePriceK is significantly different by ZipCode\n",
    "# Tested with one-way ANOVA\n",
    "F, p = stats.f_oneway(df[df['ZipCode'] == 94085]['HomePriceK'], df[df['ZipCode'] == 94087]['HomePriceK'], df[df['ZipCode'] == 95014]['HomePriceK'], df[df['ZipCode'] == 95051]['HomePriceK'])\n",
    "print(F, p)\n"
   ]
  },
  {
   "cell_type": "markdown",
   "metadata": {},
   "source": [
    "### Conclusion:\n",
    "- mean HomePriceK is statistically different by ZipCode\n",
    "- HomePriceK is highly correlated with LotSize and, oddly, with HomeID as well\n",
    "- perhaps HomeID is related to data entry time, and the home prices have increased with inflation or market as time passes by"
   ]
  }
 ],
 "metadata": {
  "kernelspec": {
   "display_name": "Python 3",
   "language": "python",
   "name": "python3"
  },
  "language_info": {
   "codemirror_mode": {
    "name": "ipython",
    "version": 3
   },
   "file_extension": ".py",
   "mimetype": "text/x-python",
   "name": "python",
   "nbconvert_exporter": "python",
   "pygments_lexer": "ipython3",
   "version": "3.6.5"
  }
 },
 "nbformat": 4,
 "nbformat_minor": 2
}
