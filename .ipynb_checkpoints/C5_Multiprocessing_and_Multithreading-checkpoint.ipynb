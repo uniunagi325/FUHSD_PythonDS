{
 "cells": [
  {
   "cell_type": "markdown",
   "metadata": {
    "slideshow": {
     "slide_type": "slide"
    }
   },
   "source": [
    "# Multiprocessing and Multithreading"
   ]
  },
  {
   "cell_type": "markdown",
   "metadata": {},
   "source": [
    "###### Goal\n",
    "<ul>\n",
    "<li>Speed up code by using multiple processes</li>\n",
    "</ul>\n",
    "\n",
    "###### Options\n",
    "<ul>\n",
    "<li>Multithreading (good for when you have things that makes you wait, i.e. network requests, so you can do other things in parallel)</li>\n",
    "<li>Multiprocessing (primarily used for ML, to share processor resources)</li>\n",
    "</ul>"
   ]
  },
  {
   "cell_type": "markdown",
   "metadata": {},
   "source": [
    "#### Multithreading\n",
    "\n",
    "Can use when\n",
    "<ul>\n",
    "<li>Lots time waiting around for a response</li>\n",
    "<ul>\n",
    "<li>Network Requests - http get, post, put</li>\n",
    "</ul>\n",
    "<li>\n",
    "Lots of I/O (Read, Write, Send, Recv...)\n",
    "</li>\n",
    "</ul>"
   ]
  },
  {
   "cell_type": "markdown",
   "metadata": {
    "slideshow": {
     "slide_type": "-"
    }
   },
   "source": [
    "## CPU Bound Threading"
   ]
  },
  {
   "cell_type": "code",
   "execution_count": 1,
   "metadata": {
    "slideshow": {
     "slide_type": "-"
    }
   },
   "outputs": [],
   "source": [
    "from threading import Thread\n",
    "import time"
   ]
  },
  {
   "cell_type": "code",
   "execution_count": 2,
   "metadata": {},
   "outputs": [
    {
     "name": "stdout",
     "output_type": "stream",
     "text": [
      "[26, 64, 54, 66, 28, 70, 79, 36, 58, 9]\n"
     ]
    }
   ],
   "source": [
    "import random\n",
    "myList = []\n",
    "for k in range(10000000):\n",
    "    num = random.randint(0,100)\n",
    "    myList.append(num)\n",
    "print(myList[0:10])"
   ]
  },
  {
   "cell_type": "markdown",
   "metadata": {},
   "source": [
    "Squaring Function"
   ]
  },
  {
   "cell_type": "code",
   "execution_count": 3,
   "metadata": {},
   "outputs": [],
   "source": [
    "def squared(numList):\n",
    "    squaredList = []\n",
    "    for k in numList:\n",
    "        squaredList.append(k*k)\n",
    "    return squared"
   ]
  },
  {
   "cell_type": "markdown",
   "metadata": {},
   "source": [
    "###### No threading"
   ]
  },
  {
   "cell_type": "code",
   "execution_count": 4,
   "metadata": {},
   "outputs": [
    {
     "name": "stdout",
     "output_type": "stream",
     "text": [
      "Serial computation took 1.356369972229004 seconds.\n"
     ]
    }
   ],
   "source": [
    "start = time.time() #  Get current time\n",
    "squared(myList)\n",
    "serialprocesstime = time.time() - start\n",
    "print(\"Serial computation took {} seconds.\".format(serialprocesstime))"
   ]
  },
  {
   "cell_type": "markdown",
   "metadata": {},
   "source": [
    "###### With threads"
   ]
  },
  {
   "cell_type": "markdown",
   "metadata": {},
   "source": [
    "give each thread 1/2th of the work"
   ]
  },
  {
   "cell_type": "code",
   "execution_count": 5,
   "metadata": {},
   "outputs": [
    {
     "name": "stdout",
     "output_type": "stream",
     "text": [
      "2 threads took 1.4930555820465088 seconds.\n"
     ]
    }
   ],
   "source": [
    "myList1 = myList[0:5000000]\n",
    "myList2 = myList[5000000:10000000]\n",
    "\n",
    "t1 = Thread(target=squared, args=(myList1,))\n",
    "t2 = Thread(target=squared, args=(myList2,))\n",
    "\n",
    "start = time.time()\n",
    "t1.start()\n",
    "t2.start()\n",
    "\n",
    "t1.join()\n",
    "t2.join()\n",
    "\n",
    "print(\"2 threads took {} seconds.\".format(time.time() - start))"
   ]
  },
  {
   "cell_type": "markdown",
   "metadata": {},
   "source": [
    "# Squaring and cubing with multiprocessing"
   ]
  },
  {
   "cell_type": "markdown",
   "metadata": {},
   "source": [
    "\"\"\" How to install ... in Anaconda3/Scripts directory ... pip install multiprocess\n",
    "\"\"\""
   ]
  },
  {
   "cell_type": "code",
   "execution_count": 7,
   "metadata": {},
   "outputs": [],
   "source": [
    "from multiprocess import Process"
   ]
  },
  {
   "cell_type": "code",
   "execution_count": 9,
   "metadata": {},
   "outputs": [
    {
     "name": "stdout",
     "output_type": "stream",
     "text": [
      "multiprocess took 0.3082900047302246 seconds.\n"
     ]
    }
   ],
   "source": [
    "def squaring():\n",
    "    print(\"From squaring ...\")\n",
    "    numbers = [r for r in range(0,100)]\n",
    "    squared = []\n",
    "    for x in numbers:\n",
    "        num = x * x\n",
    "        print(\"Sq:\",num)\n",
    "        squared.append(num) \n",
    "    print(squared)\n",
    "\n",
    "def cubing():\n",
    "    print(\"From cubing ...\")\n",
    "    numbers = [r for r in range(0,100)]\n",
    "    cubed = []\n",
    "    for x in numbers:\n",
    "        num = x * x * x\n",
    "        print(\"Cb:\",num)\n",
    "        cubed.append(num)\n",
    "    print(cubed)\n",
    "\n",
    "p1 = Process(target=squaring)\n",
    "p2 = Process(target=cubing)\n",
    " \n",
    "start = time.time()    \n",
    "\n",
    "p1.start()\n",
    "p2.start()\n",
    " \n",
    "p1.join()\n",
    "p2.join()\n",
    "\n",
    "print(\"multiprocess took {} seconds.\".format(time.time() - start))"
   ]
  },
  {
   "cell_type": "code",
   "execution_count": 10,
   "metadata": {},
   "outputs": [],
   "source": [
    "# the output is displayed in Anaconda prmopt"
   ]
  },
  {
   "cell_type": "code",
   "execution_count": null,
   "metadata": {},
   "outputs": [],
   "source": []
  }
 ],
 "metadata": {
  "kernelspec": {
   "display_name": "Python 3",
   "language": "python",
   "name": "python3"
  },
  "language_info": {
   "codemirror_mode": {
    "name": "ipython",
    "version": 3
   },
   "file_extension": ".py",
   "mimetype": "text/x-python",
   "name": "python",
   "nbconvert_exporter": "python",
   "pygments_lexer": "ipython3",
   "version": "3.6.5"
  }
 },
 "nbformat": 4,
 "nbformat_minor": 1
}
